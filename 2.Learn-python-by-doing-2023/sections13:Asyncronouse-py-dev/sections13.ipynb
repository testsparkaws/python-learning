{
 "cells": [
  {
   "cell_type": "code",
   "execution_count": 1,
   "metadata": {},
   "outputs": [
    {
     "data": {
      "text/plain": [
       "'\\nHey there! Welcome to one of the most advanced topics in Python. A lot of developers are scared of what we\\'re going to learn in this section.\\n\\nYou shouldn\\'t be scared!\\n\\nWe\\'ll start at the fundamentals, and build out our knowledge of asynchronous development from the ground up.\\n\\nThroughout the section we\\'ll learn more about what these terms mean, but it can be helpful to have a short glossary of terms just in case you want to come back and remind yourself.\\n\\nSynchronous: actions that happen one after another. Programming as we\\'ve seen it until now is synchronous, because each line executes after the previous one.\\nAsynchronous: actions that don\\'t necessary happen after one another, or that can happen in arbitrary order (\"without synchrony\").\\nConcurrency: The ability of our programs to run things in different order every time the program runs, without affecting the final outcome.\\nParallelism: Running two or more things at the same time.\\nThread: A line of code execution that can run in one of your computer\\'s cores.\\nProcess: One of more threads and the resources they need (e.g. network connection, mouse pointer, hard drive access, or even the core(s) in which the thread(s) run).\\nGIL: A key, critical, important resource in any Python program. Only one is created per Python process, so it\\'s unique in each.\\n'"
      ]
     },
     "execution_count": 1,
     "metadata": {},
     "output_type": "execute_result"
    }
   ],
   "source": [
    "# https://github.com/tecladocode/complete-python-course/tree/master/course_contents/13_async_development/sample_code\n",
    "\n",
    "'''\n",
    "Hey there! Welcome to one of the most advanced topics in Python. A lot of developers are scared of what we're going to learn in this section.\n",
    "\n",
    "You shouldn't be scared!\n",
    "\n",
    "We'll start at the fundamentals, and build out our knowledge of asynchronous development from the ground up.\n",
    "\n",
    "Throughout the section we'll learn more about what these terms mean, but it can be helpful to have a short glossary of terms just in case you want to come back and remind yourself.\n",
    "\n",
    "Synchronous: actions that happen one after another. Programming as we've seen it until now is synchronous, because each line executes after the previous one.\n",
    "Asynchronous: actions that don't necessary happen after one another, or that can happen in arbitrary order (\"without synchrony\").\n",
    "Concurrency: The ability of our programs to run things in different order every time the program runs, without affecting the final outcome.\n",
    "Parallelism: Running two or more things at the same time.\n",
    "Thread: A line of code execution that can run in one of your computer's cores.\n",
    "Process: One of more threads and the resources they need (e.g. network connection, mouse pointer, hard drive access, or even the core(s) in which the thread(s) run).\n",
    "GIL: A key, critical, important resource in any Python program. Only one is created per Python process, so it's unique in each.\n",
    "'''"
   ]
  },
  {
   "cell_type": "code",
   "execution_count": 2,
   "metadata": {},
   "outputs": [],
   "source": [
    "# 197: Example: thread in Python"
   ]
  },
  {
   "cell_type": "code",
   "execution_count": null,
   "metadata": {},
   "outputs": [],
   "source": [
    "# Using Python concurrent.futures: the ThreadPoolExecutor"
   ]
  }
 ],
 "metadata": {
  "kernelspec": {
   "display_name": "de-venv1",
   "language": "python",
   "name": "python3"
  },
  "language_info": {
   "codemirror_mode": {
    "name": "ipython",
    "version": 3
   },
   "file_extension": ".py",
   "mimetype": "text/x-python",
   "name": "python",
   "nbconvert_exporter": "python",
   "pygments_lexer": "ipython3",
   "version": "3.9.12"
  }
 },
 "nbformat": 4,
 "nbformat_minor": 2
}
