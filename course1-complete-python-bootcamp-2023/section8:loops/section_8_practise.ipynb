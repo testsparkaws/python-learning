{
 "cells": [
  {
   "cell_type": "code",
   "execution_count": 11,
   "metadata": {},
   "outputs": [
    {
     "name": "stdout",
     "output_type": "stream",
     "text": [
      "P\n",
      "bye\n",
      "y\n",
      "bye\n",
      "t\n",
      "bye\n",
      "h\n",
      "bye\n",
      "o\n",
      "bye\n",
      "n\n",
      "bye\n",
      "#####\n",
      "\n",
      "1\n",
      "2\n",
      "3\n",
      "\n",
      "1\n",
      "2\n",
      "3\n",
      "\n",
      "1\n",
      "2\n",
      "3\n",
      "Exception :  'int' object is not iterable\n",
      "##\n",
      "o\n"
     ]
    }
   ],
   "source": [
    "# For Loops\n",
    "# For & While \n",
    "\n",
    "for letter in 'Python':\n",
    "    # do Something\n",
    "    print(letter)\n",
    "    print('bye')\n",
    "    #print('#####')\n",
    "print('#####')\n",
    "print()\n",
    "\n",
    "\n",
    "for letter in [1,2,3]:\n",
    "    print(letter)\n",
    "\n",
    "print()\n",
    "for letter in (1,2,3): #tuples\n",
    "    print(letter)\n",
    "\n",
    "print()\n",
    "for letter in {1,2,3}: # set \n",
    "    print(letter)\n",
    "\n",
    "try:\n",
    "    for letter in 8:\n",
    "        print(letter)  \n",
    "except Exception as e:\n",
    "    print(f\"Exception : \", e)\n",
    "\n",
    "\n",
    "print(\"##\")\n",
    "my_str = input(\"Enter strings\")\n",
    "vowels = \"aeiou\"\n",
    "for letter in my_str:\n",
    "    if letter in vowels:\n",
    "        print(letter)"
   ]
  },
  {
   "cell_type": "code",
   "execution_count": 12,
   "metadata": {},
   "outputs": [],
   "source": [
    "# Debugging your code: step Through your program \n",
    "\n",
    "'''\n",
    "    - create a breakpoint \n",
    "    - run the program in debug mode\n",
    "    - evaluate expression\n",
    "    - On Top bar in vs code , debug file \n",
    "    - ** on debug COnsole : evaluate Expression\n",
    "    \n",
    "    # Steps\n",
    "    - Continue: {F5} -> Keep on running the code for each breakpoint \n",
    "    - ** Step Into : To check the code line by line {F11}\n",
    "    - ** Step Out: Comeout from code and Go to break point \n",
    "'''\n",
    "\n",
    "print(\"Hello Python!\")\n",
    "x=101\n",
    "y = x // 2\n",
    "\n",
    "for n in [1, 2, 3,4,5 ,6, 7]:\n",
    "    nn = n ** 2\n",
    "    if nn % 2 == 0:\n",
    "        print(f\"{nn} is even.\")\n",
    "    else:\n",
    "        print(f\"{nn} is odd.\")\n"
   ]
  },
  {
   "cell_type": "code",
   "execution_count": 30,
   "metadata": {},
   "outputs": [
    {
     "name": "stdout",
     "output_type": "stream",
     "text": [
      "<class 'range'>\n",
      "range(2, 10)\n",
      "[2, 3, 4, 5, 6, 7, 8, 9]\n",
      "\n",
      "0 1 2 3 4 5 6 7 8 9 2 5 8 \n",
      "0 2 4 6 8 10 \n",
      "[0, 7, 14, 21, 28, 35]\n",
      "500500\n",
      "[3, 4, 5, 6, 7, 8]\n",
      "[3, 4, 5, 6, 7, 8]\n",
      "[5, 15, 25, 35, 45, 55, 65, 75, 85, 95]\n",
      "[10, 7, 4, 1]\n",
      "[-20, -16, -12, -8, -4, 0, 4, 8]\n"
     ]
    }
   ],
   "source": [
    "# Ranges\n",
    "# range()\n",
    "r = range(2, 10)\n",
    "print(type(r))\n",
    "print(r)\n",
    "print(list(r))\n",
    "\n",
    "print()\n",
    "r = range(10)\n",
    "for x in r:\n",
    "    print(x, end = ' ')\n",
    "\n",
    "r = range(2, 10, 3)\n",
    "for x in r:\n",
    "    print(x, end = ' ')\n",
    "\n",
    "# Even\n",
    "print()\n",
    "r = range(0, 11, 2)\n",
    "for x in r:\n",
    "    print(x, end = ' ')\n",
    "\n",
    "print()\n",
    "print(list(range(0,40, 7)))\n",
    "\n",
    "#\n",
    "s= sum(range(0, 1001))\n",
    "print(s)\n",
    "\n",
    "\n",
    "# Summary \n",
    "# 1. range(stop)\n",
    "# 2. range(start, stop)\n",
    "print(list(range(3,9)))\n",
    "print(list(range(3,9,1)))\n",
    "\n",
    "# 3. range(start, stop, step)\n",
    "print(list(range(5,100,10)))\n",
    "print(list(range(10,-2,-3)))\n",
    "print(list(range(-20,10,4)))"
   ]
  },
  {
   "cell_type": "code",
   "execution_count": 33,
   "metadata": {},
   "outputs": [
    {
     "data": {
      "text/plain": [
       "[-10,\n",
       " -7,\n",
       " -4,\n",
       " -1,\n",
       " 2,\n",
       " 5,\n",
       " 8,\n",
       " 11,\n",
       " 14,\n",
       " 17,\n",
       " 20,\n",
       " 23,\n",
       " 26,\n",
       " 29,\n",
       " 32,\n",
       " 35,\n",
       " 38,\n",
       " 41,\n",
       " 44,\n",
       " 47,\n",
       " 50,\n",
       " 53,\n",
       " 56,\n",
       " 59,\n",
       " 62,\n",
       " 65,\n",
       " 68,\n",
       " 71,\n",
       " 74,\n",
       " 77,\n",
       " 80,\n",
       " 83,\n",
       " 86,\n",
       " 89,\n",
       " 92,\n",
       " 95,\n",
       " 98]"
      ]
     },
     "execution_count": 33,
     "metadata": {},
     "output_type": "execute_result"
    }
   ],
   "source": [
    "list1 = list(range(-10, 100,3))\n",
    "list1"
   ]
  },
  {
   "cell_type": "code",
   "execution_count": 34,
   "metadata": {},
   "outputs": [
    {
     "name": "stdout",
     "output_type": "stream",
     "text": [
      "[-10, -7, -4, -1, 2, 5, 8, 11, 14, 17, 20, 23, 26, 29, 32, 35, 38, 41, 44, 47, 50, 53, 56, 59, 62, 65, 68, 71, 74, 77, 80, 83, 86, 89, 92, 95, 98]\n",
      "[99, 97, 95, 93, 91, 89, 87, 85, 83, 81, 79, 77, 75, 73, 71, 69, 67, 65, 63, 61, 59, 57, 55, 53, 51, 49, 47, 45, 43, 41, 39, 37, 35, 33, 31, 29, 27, 25, 23, 21, 19, 17, 15, 13, 11, 9, 7, 5, 3, 1, -1, -3]\n"
     ]
    }
   ],
   "source": [
    "list1 = list(range(-10, 100, 3))\n",
    "print(list1)\n",
    " \n",
    "list2 = list(range(99, -4, -2))\n",
    "print(list2)"
   ]
  },
  {
   "cell_type": "code",
   "execution_count": 40,
   "metadata": {},
   "outputs": [
    {
     "name": "stdout",
     "output_type": "stream",
     "text": [
      "Sum is : 5050\n",
      "\n",
      "Do Something 0\n",
      "Do Something 1\n",
      "Do Something 2\n",
      "Do Something 3\n",
      "Do Something 4\n",
      "Do Something 5\n",
      "Do Something 6\n",
      "Do Something 7\n",
      "Do Something 8\n",
      "Do Something 9\n",
      "**\n",
      "Choosing Winnder. Round 0 ...\n",
      "Diana\n",
      "##########\n",
      "Choosing Winnder. Round 1 ...\n",
      "Raj\n",
      "##########\n",
      "Choosing Winnder. Round 2 ...\n",
      "Paul\n",
      "##########\n"
     ]
    }
   ],
   "source": [
    "# Loop and Ranges\n",
    "s = 0 \n",
    "for n in range(101): # range(0 ,101, 1)\n",
    "    s+=n\n",
    "\n",
    "print(f'Sum is : {s}')\n",
    "\n",
    "print(\"\")\n",
    "for _ in range(10):\n",
    "    print('Do Something', _)\n",
    "\n",
    "print(\"**\")\n",
    "import random \n",
    "\n",
    "names = ['Diana', 'Paul', 'Ana','Raj','Amit','Jeff']\n",
    "for _ in range(3):\n",
    "    print(f'Choosing Winnder. Round {_} ...')\n",
    "    winner = random.choice(names)\n",
    "    names.remove(winner)\n",
    "    print(winner)\n",
    "    print(\"##########\")\n"
   ]
  },
  {
   "cell_type": "code",
   "execution_count": 46,
   "metadata": {},
   "outputs": [
    {
     "name": "stdout",
     "output_type": "stream",
     "text": [
      "abcdefghijklmnopqrstuvwxyzABCDEFGHIJKLMNOPQRSTUVWXYZ 0123456789 !\"#$%&'()*+,-./:;<=>?@[\\]^_`{|}~\n",
      "U\n"
     ]
    }
   ],
   "source": [
    "# Project: PASSWORD GENERATOR\n",
    "# 1. Never share your password \n",
    "# 2. Use a strong Password \n",
    "# 3. Don't resuse your passwords \n",
    "# 4. Use 2FA\n",
    "\n",
    "import random , string \n",
    "print(string.ascii_letters+' '+string.digits+' ' + string.punctuation)\n",
    "chars = string.ascii_letters+string.digits+ string.punctuation\n",
    "print(random.choice(chars))\n",
    "\n",
    "#length = 12 \n",
    "length = input('Password length: ')\n",
    "password = ''"
   ]
  },
  {
   "cell_type": "code",
   "execution_count": null,
   "metadata": {},
   "outputs": [],
   "source": []
  }
 ],
 "metadata": {
  "kernelspec": {
   "display_name": "de-venv",
   "language": "python",
   "name": "python3"
  },
  "language_info": {
   "codemirror_mode": {
    "name": "ipython",
    "version": 3
   },
   "file_extension": ".py",
   "mimetype": "text/x-python",
   "name": "python",
   "nbconvert_exporter": "python",
   "pygments_lexer": "ipython3",
   "version": "3.7.3"
  },
  "orig_nbformat": 4
 },
 "nbformat": 4,
 "nbformat_minor": 2
}
