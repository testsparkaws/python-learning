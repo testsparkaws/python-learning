{
 "cells": [
  {
   "cell_type": "code",
   "execution_count": 5,
   "metadata": {},
   "outputs": [
    {
     "name": "stdout",
     "output_type": "stream",
     "text": [
      "1 2 3\n",
      "30 John\n"
     ]
    }
   ],
   "source": [
    "# variables\n",
    "miles = 10\n",
    "miles\n",
    "miles = 15 \n",
    "miles \n",
    "\n",
    "a,b,c = 1,2,3\n",
    "print(a,b,c)\n",
    "\n",
    "age,name = 30, \"John\"\n",
    "print(age,name)\n",
    "\n",
    "# naming conventions \n",
    "# pep\n",
    "age = 40\n",
    "#2name= \"\"\n"
   ]
  },
  {
   "cell_type": "code",
   "execution_count": 6,
   "metadata": {},
   "outputs": [
    {
     "name": "stdout",
     "output_type": "stream",
     "text": [
      "__bonus\n"
     ]
    }
   ],
   "source": [
    "_bonus = \"SSS\"\n",
    "__bonus = \"__bonus\"\n",
    "print(__bonus)"
   ]
  },
  {
   "cell_type": "code",
   "execution_count": 1,
   "metadata": {},
   "outputs": [],
   "source": [
    "# Copy section from repl.it after completion of each section"
   ]
  },
  {
   "cell_type": "code",
   "execution_count": 2,
   "metadata": {},
   "outputs": [
    {
     "name": "stdout",
     "output_type": "stream",
     "text": [
      "8 ABC\n"
     ]
    }
   ],
   "source": [
    "# Naming Convetions\n",
    "A = 8\n",
    "a = 'ABC'\n",
    "print(A, a)\n"
   ]
  },
  {
   "cell_type": "code",
   "execution_count": 3,
   "metadata": {},
   "outputs": [
    {
     "name": "stdout",
     "output_type": "stream",
     "text": [
      "A hash # within a string lieral is just a hash char.\n"
     ]
    },
    {
     "data": {
      "text/plain": [
       "'\\n# Docstring\\nx=3\\nprint(x)\\n'"
      ]
     },
     "execution_count": 3,
     "metadata": {},
     "output_type": "execute_result"
    }
   ],
   "source": [
    "# Comments\n",
    "# this is comments\n",
    "my_str = 'A hash # within a string lieral is just a hash char.'\n",
    "print(my_str)\n",
    "\"\"\"\n",
    "# Docstring\n",
    "x=3\n",
    "print(x)\n",
    "\"\"\""
   ]
  },
  {
   "cell_type": "code",
   "execution_count": 4,
   "metadata": {},
   "outputs": [
    {
     "name": "stdout",
     "output_type": "stream",
     "text": [
      "3.14\n",
      "3.142\n"
     ]
    }
   ],
   "source": [
    "# Constants\n",
    "PI = 3.14\n",
    "SECONDS_IN_HOUR = 3600\n",
    "DAYS_IN_WEEK = 7\n",
    "print(PI)\n",
    "\n",
    "PI = 3.142\n",
    "print(PI)"
   ]
  },
  {
   "cell_type": "code",
   "execution_count": 5,
   "metadata": {},
   "outputs": [
    {
     "name": "stdout",
     "output_type": "stream",
     "text": [
      "<class 'int'>\n",
      "<class 'int'> 4383317808\n",
      "<class 'str'> 4385427048\n",
      "4383317968 4383317968\n"
     ]
    }
   ],
   "source": [
    "####### Dynamic vs Stating Typing #########\n",
    "score = 10\n",
    "print(type(score))\n",
    "\n",
    "a = 5\n",
    "print(type(a), id(a))\n",
    "a = 'Python'\n",
    "print(type(a), id(a))\n",
    "\n",
    "my_var = 10\n",
    "my_var1 = 10\n",
    "print(id(my_var), id(my_var1))"
   ]
  },
  {
   "cell_type": "code",
   "execution_count": null,
   "metadata": {},
   "outputs": [],
   "source": [
    "# Built-in Types\n",
    "age = 40\n",
    "name = 'Dan'\n",
    "print(age == 40)\n",
    "print(age > 20)\n",
    "print(name == 'Anderi')\n",
    "print(len(name) != 10)\n",
    "\n",
    "person = ['Dan', 50, 5.6, True, [1, 2, 5]]\n",
    "print(person)"
   ]
  },
  {
   "cell_type": "code",
   "execution_count": 6,
   "metadata": {},
   "outputs": [
    {
     "name": "stdout",
     "output_type": "stream",
     "text": [
      "10\n",
      "-6\n",
      "2.0\n",
      "2\n",
      "5\n",
      "4\n",
      "1267650600228229401496703205376\n",
      "3\n",
      "20.0\n",
      "34\n",
      "48\n",
      "1728\n",
      "1000000000\n",
      "True\n"
     ]
    }
   ],
   "source": [
    "\n",
    "# Numbers and Math Operators\n",
    "# Integers\n",
    "# Floats\n",
    "# Complex Numbers\n",
    "# Airthmetic OPerators\n",
    "# +,\n",
    "print(5 + 5)\n",
    "print(3 - 9)\n",
    "# / => float division\n",
    "print(8 / 4)  # 2.0\n",
    "\n",
    "# // Integer Divisino\n",
    "print(8 // 4)  # 2\n",
    "print(11 // 2)  # 5\n",
    "\n",
    "# ** => power , expoenetials\n",
    "print(2**2)\n",
    "print(2**100)\n",
    "\n",
    "# % => mod\n",
    "print(8 % 5)\n",
    "\n",
    "print(4 * 5.0)\n",
    "\n",
    "## predence : **, *, +\n",
    "print(2 + 4 * 2**3)  # 34\n",
    "print((2 + 4) * 2**3)  # 48\n",
    "print(((2 + 4) * 2)**3)  # 48\n",
    "\n",
    "# 1000000000 how to read it\n",
    "a = 1_000_000_000\n",
    "print(a)\n",
    "print(1000 == 1_0_0_0)"
   ]
  },
  {
   "cell_type": "code",
   "execution_count": 7,
   "metadata": {},
   "outputs": [
    {
     "name": "stdout",
     "output_type": "stream",
     "text": [
      "12\n",
      "4.0\n",
      "1.0\n",
      "1.0\n",
      "2 2\n",
      "25\n",
      "45\n",
      "9\n",
      "-6\n",
      "5.667\n",
      "5.646772 5.6\n"
     ]
    }
   ],
   "source": [
    "# Assignmnet Opertors\n",
    "a = 5\n",
    "a += 2\n",
    "a -= 3\n",
    "a *= 3\n",
    "print(a)\n",
    "\n",
    "a /= 3\n",
    "print(a)\n",
    "\n",
    "a //= 3\n",
    "print(a)\n",
    "\n",
    "a **= 3\n",
    "print(a)\n",
    "\n",
    "# divmod()\n",
    "a, b = divmod(14, 6)\n",
    "print(a, b)\n",
    "\n",
    "# pow()\n",
    "print(pow(5, 2))\n",
    "\n",
    "# sum()\n",
    "print(sum([1, 2, 3, 4, 5, 6, 7, 8, 9]))\n",
    "\n",
    "# max()\n",
    "print(max([1, 2, 3, 4, 5, 6, 7, 8, 9]))\n",
    "\n",
    "# min()\n",
    "print(min([1, 2, 3, 4, 5, 6, 7, 8, 9, -6]))\n",
    "\n",
    "#round()\n",
    "a = 5.666772\n",
    "print(round(a, 3))\n",
    "\n",
    "a = 5.646772\n",
    "b = round(a, 1)\n",
    "print(a, b)"
   ]
  },
  {
   "cell_type": "code",
   "execution_count": 8,
   "metadata": {},
   "outputs": [
    {
     "name": "stdout",
     "output_type": "stream",
     "text": [
      "\n",
      "# Comparision Operators\n",
      "False\n",
      "True\n",
      "False\n",
      "True\n",
      "False\n",
      "True\n",
      "True\n",
      "True\n",
      "True\n"
     ]
    }
   ],
   "source": [
    "print(\"\\n# Comparision Operators\")\n",
    "# ==\n",
    "print(7 == 8)\n",
    "print('abc' == 'abc')  # => True\n",
    "print(7 != 7)\n",
    "print('a' != 'A')\n",
    "\n",
    "a, b = 7, 9\n",
    "print(a > b)\n",
    "print(b >= 9)\n",
    "print(a < 8)\n",
    "print(a <= 8)\n",
    "\n",
    "print(a * 2 <= 100)"
   ]
  },
  {
   "cell_type": "code",
   "execution_count": 9,
   "metadata": {},
   "outputs": [
    {
     "name": "stdout",
     "output_type": "stream",
     "text": [
      "\n",
      "# Identity Operators. Mutability vs Immutability\n",
      "False\n",
      "True\n"
     ]
    }
   ],
   "source": [
    "print('\\n# Identity Operators. Mutability vs Immutability')\n",
    "# is and is not\n",
    "a, b = 3, 4\n",
    "print(a is b)\n",
    "print(a is not b)"
   ]
  },
  {
   "cell_type": "code",
   "execution_count": 10,
   "metadata": {},
   "outputs": [
    {
     "name": "stdout",
     "output_type": "stream",
     "text": [
      "4383317744\n",
      "4383317840\n",
      "4429406408\n",
      "4429406408\n",
      "True\n",
      "False\n"
     ]
    }
   ],
   "source": [
    "# Immutable type: int, float, str, tuple, frozenset\n",
    "# Mutables types; List, set , dict\n",
    "print(id(a))\n",
    "a += 3\n",
    "print(id(a))\n",
    "\n",
    "numbers = [1, 2, 3]\n",
    "print(id(numbers))\n",
    "numbers.append(100)\n",
    "print(id(numbers))\n",
    "\n",
    "nums = numbers.copy()\n",
    "print(nums == numbers)\n",
    "\n",
    "print(nums is numbers)"
   ]
  },
  {
   "cell_type": "code",
   "execution_count": 11,
   "metadata": {},
   "outputs": [
    {
     "name": "stdout",
     "output_type": "stream",
     "text": [
      "True\n",
      "0.3333333333333333\n",
      "0.33333333333333331483\n",
      "0.1\n",
      "0.10000000000000000555\n",
      "0.10000000000000000555\n",
      "0.12500000000000000000000000000000000000000000000000\n",
      "False\n",
      "0.3000000000000000444089210\n",
      "0.2999999999999999888977698\n",
      "0.30000000000000004 0.3\n"
     ]
    }
   ],
   "source": [
    "\n",
    "# Floating point arithmetic: Issues and Limitation\n",
    "print(0.125 == 1/10 + 2/100 + 5 /1000)\n",
    "print(1/3)\n",
    "print(format(1/3, '.20f'))\n",
    "\n",
    "print(1/10)\n",
    "print(format(1/10, '.20f'))\n",
    "print(format(0.1, '.20f'))\n",
    "print(format(0.125, '.50f'))\n",
    "\n",
    "a = 0.1 * 3\n",
    "b = 0.3 \n",
    "print(a == b)\n",
    "print(format(a, '.25f'))\n",
    "print(format(b, '.25f'))\n",
    "print(a,b)"
   ]
  },
  {
   "cell_type": "code",
   "execution_count": 12,
   "metadata": {},
   "outputs": [
    {
     "name": "stdout",
     "output_type": "stream",
     "text": [
      "\n",
      "## Solve the Float Problem : write bug freee code\n",
      "False\n",
      "True\n",
      "True\n",
      "5.699999999999999\n",
      "3.3999999999999999111821580\n",
      "2.2999999999999998223643161\n"
     ]
    }
   ],
   "source": [
    "\n",
    "print('\\n## Solve the Float Problem : write bug freee code')\n",
    "\n",
    "from math import isclose\n",
    "\n",
    "# Small Numbers\n",
    "x = 0.0000000001\n",
    "y = 0.0000000002\n",
    "print(x == y )\n",
    "print(isclose(x, y, abs_tol=0.01))\n",
    "\n",
    "# Long Numbers\n",
    "a = 9999999.01\n",
    "b = 9999999.02\n",
    "print(isclose(a, b, rel_tol=0.01))\n",
    "\n",
    "# Eqwlauty\n",
    "a = 3.4\n",
    "b = 2.3\n",
    "print(a+b) # 5.7 expected,print(isclose(x, y, abs_tol=0.01))\n",
    "print(format(a, '.25f'))\n",
    "print(format(b, '.25f'))"
   ]
  },
  {
   "cell_type": "code",
   "execution_count": null,
   "metadata": {},
   "outputs": [],
   "source": []
  },
  {
   "cell_type": "code",
   "execution_count": null,
   "metadata": {},
   "outputs": [],
   "source": []
  }
 ],
 "metadata": {
  "kernelspec": {
   "display_name": "de-venv",
   "language": "python",
   "name": "python3"
  },
  "language_info": {
   "codemirror_mode": {
    "name": "ipython",
    "version": 3
   },
   "file_extension": ".py",
   "mimetype": "text/x-python",
   "name": "python",
   "nbconvert_exporter": "python",
   "pygments_lexer": "ipython3",
   "version": "3.7.3"
  },
  "orig_nbformat": 4
 },
 "nbformat": 4,
 "nbformat_minor": 2
}
