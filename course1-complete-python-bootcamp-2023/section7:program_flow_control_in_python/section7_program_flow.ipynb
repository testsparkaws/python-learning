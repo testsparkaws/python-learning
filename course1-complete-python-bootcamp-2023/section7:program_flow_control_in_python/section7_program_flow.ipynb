{
 "cells": [
  {
   "cell_type": "code",
   "execution_count": 5,
   "metadata": {},
   "outputs": [
    {
     "name": "stdout",
     "output_type": "stream",
     "text": [
      "Insuffieent funds! Please deposit: 400\n",
      "Other Instructions....\n"
     ]
    }
   ],
   "source": [
    "# Conditional Statements & Indentation\n",
    "balance = 100\n",
    "price = 500\n",
    "\n",
    "if balance >= price:\n",
    "    new_balance = balance - price \n",
    "    print(f'You can book the flight and your new balance will be {new_balance}.')\n",
    "else:\n",
    "    print(f'Insuffieent funds! Please deposit: {price-balance}')\n",
    "\n",
    "print('Other Instructions....')\n",
    "\n",
    "'''\n",
    " * Use spaces instead of tabs\n",
    "\n",
    "'''"
   ]
  },
  {
   "cell_type": "code",
   "execution_count": 13,
   "metadata": {},
   "outputs": [
    {
     "name": "stdout",
     "output_type": "stream",
     "text": [
      "We'll move on.\n",
      "x is less then or equal to 10\n",
      "x is less then or equal to 10\n"
     ]
    }
   ],
   "source": [
    "# Nested IF/ELIF/ELSE STATEMENTS\n",
    "answer = input(\"DO You want to continue? Enter yes or no.\")\n",
    "answer = answer.lower()\n",
    "\n",
    "if answer == 'yes':\n",
    "    print(\"We\\'ll move on.\")\n",
    "elif answer == 'no':\n",
    "    print('We\\' stop.')\n",
    "else:\n",
    "    print('Invalid answer.')\n",
    "\n",
    "\n",
    "## #\n",
    "x = 10\n",
    "if x <= 10:\n",
    "    print(f'x is less then or equal to 10')\n",
    "elif x ==10:\n",
    "    print('x is equal to 10.')\n",
    "else:\n",
    "   print('x is greated than 10')\n",
    "\n",
    "\n",
    "## #\n",
    "x = 10\n",
    "if x <= 10:\n",
    "    print(f'x is less then or equal to 10')\n",
    "elif x ==10:\n",
    "    print('x is equal to 10.')"
   ]
  },
  {
   "cell_type": "code",
   "execution_count": 40,
   "metadata": {},
   "outputs": [
    {
     "data": {
      "text/plain": [
       "\"\\nage = 20\\nif age in '20 years':\\n    print('He is 20 years old')\\nelse:\\n    print('He is not 20 years old')\\n\""
      ]
     },
     "execution_count": 40,
     "metadata": {},
     "output_type": "execute_result"
    }
   ],
   "source": [
    "# Boolean variables\n",
    "'''\n",
    "int(True)\n",
    "int(False)\n",
    "issubclass(bool ,int)\n",
    "print(id(True))\n",
    "print(id(4>3))\n",
    "True == 1\n",
    "\n",
    "print(id(True))\n",
    "print(id(1))\n",
    "\n",
    "print(3 == False)\n",
    "\n",
    "a,b = 1,2 \n",
    "print(a>b, b <a )\n",
    "print(a>b, b == 2)\n",
    "\n",
    "print(True > False) #1> 0\n",
    "x = True + True \n",
    "print(x)\n",
    "\n",
    "print(100* False)\n",
    "# Means False is 0 and True means 1 in python thats all \n",
    "\n",
    "result = ''\n",
    "#if result:\n",
    "if bool(result):\n",
    "    print('result is not empty')\n",
    "else:\n",
    "    print('result is empty')\n",
    "\n",
    "#var1 = ''\n",
    "#var1 = []\n",
    "#var1 = 1\n",
    "var1 = 0\n",
    "\n",
    "if var1:\n",
    "    print('var1 trughty value is True')\n",
    "else:\n",
    "    print('var1 value si False')\n",
    "\n",
    "'''\n",
    "\n",
    "# Error \n",
    "'''\n",
    "age = 20\n",
    "if age in '20 years':\n",
    "    print('He is 20 years old')\n",
    "else:\n",
    "    print('He is not 20 years old')\n",
    "'''"
   ]
  },
  {
   "cell_type": "code",
   "execution_count": 41,
   "metadata": {},
   "outputs": [
    {
     "name": "stdout",
     "output_type": "stream",
     "text": [
      "message 1\n"
     ]
    }
   ],
   "source": [
    "a = -1\n",
    "if a:\n",
    "    print('message 1')\n",
    "else:\n",
    "    print('message 2')\n",
    "\n",
    "# \"if a\" is equivalent to if \"bool(a)\" and bool of any non zero number is True.\n"
   ]
  },
  {
   "cell_type": "code",
   "execution_count": 42,
   "metadata": {},
   "outputs": [
    {
     "name": "stdout",
     "output_type": "stream",
     "text": [
      "LOVE PYTHON!\n"
     ]
    }
   ],
   "source": [
    "my_str = 'I Love Python!'\n",
    " \n",
    "if my_str[-2].islower() and 'Java' not in my_str:\n",
    "    print(my_str[2:].upper())\n",
    "elif my_str[::] != my_str:\n",
    "    print(my_str.lower())\n",
    "else:\n",
    "    print(my_str[::-1])"
   ]
  },
  {
   "cell_type": "code",
   "execution_count": 52,
   "metadata": {},
   "outputs": [
    {
     "name": "stdout",
     "output_type": "stream",
     "text": [
      "False\n",
      "False\n",
      "True\n",
      "False\n",
      "True\n",
      "False\n",
      "False\n",
      "True\n",
      "True\n",
      "False\n"
     ]
    }
   ],
   "source": [
    "# Logical(Boolean) Operators: AND & OR \n",
    "age = 6\n",
    "print(a > 0)\n",
    "print(a > 0 and age < 18)\n",
    "print(0< age < 18)\n",
    "\n",
    "age = 20\n",
    "print(age > 0 and age < 18 )\n",
    "\n",
    "name = 'Daniel'\n",
    "print(age > 0 and age < 28 and name == 'Daniel')\n",
    "print(age > 0 and age < 28 and 'Danny' in name)\n",
    "\n",
    "# OR Operator\n",
    "age,name = 6, 'Danieal'\n",
    "print(age < 3 or name == 'Anderie')\n",
    "print(age < 3 or name == 'Danieal')\n",
    "print(age < 36 or name == 'Andrei')\n",
    "\n",
    "print(age!=6 or 'dan' in name)"
   ]
  },
  {
   "cell_type": "code",
   "execution_count": 62,
   "metadata": {},
   "outputs": [
    {
     "name": "stdout",
     "output_type": "stream",
     "text": [
      "False\n",
      "True\n",
      "True\n",
      "False\n",
      "False\n",
      "False\n",
      "True\n"
     ]
    }
   ],
   "source": [
    "# Logical(Boolean) Operators: NOT\n",
    "print( not 2 == 2)\n",
    "age = 6\n",
    "print( not age > 20)\n",
    "\n",
    "print(age < 18 and not name == 'Andrei')\n",
    "print(not age == 6 or name == 'Daniel')\n",
    "print(not (age == 6 or name == 'Daniel'))\n",
    "\n",
    "print(age < 18 and name == 'Diana')\n",
    "\n",
    "name = 'Daniel'\n",
    "print(age < 18 and name == 'Diana' or len(name) == 6)"
   ]
  },
  {
   "cell_type": "code",
   "execution_count": 63,
   "metadata": {},
   "outputs": [
    {
     "data": {
      "text/plain": [
       "False"
      ]
     },
     "execution_count": 63,
     "metadata": {},
     "output_type": "execute_result"
    }
   ],
   "source": [
    "a,b = 10,20\n",
    "a > 100 and b == 20"
   ]
  },
  {
   "cell_type": "code",
   "execution_count": 65,
   "metadata": {},
   "outputs": [
    {
     "name": "stdout",
     "output_type": "stream",
     "text": [
      "B\n"
     ]
    }
   ],
   "source": [
    "s = ''\n",
    "if s:\n",
    "   print('A')\n",
    "else:\n",
    "   print('B')"
   ]
  },
  {
   "cell_type": "code",
   "execution_count": 66,
   "metadata": {},
   "outputs": [
    {
     "name": "stdout",
     "output_type": "stream",
     "text": [
      "B\n"
     ]
    }
   ],
   "source": [
    "n = 0\n",
    "if n:\n",
    "   print('A')\n",
    "else:\n",
    "   print('B')"
   ]
  },
  {
   "cell_type": "code",
   "execution_count": 67,
   "metadata": {},
   "outputs": [
    {
     "name": "stdout",
     "output_type": "stream",
     "text": [
      "A\n",
      "B\n"
     ]
    }
   ],
   "source": [
    "a, b = 0, 'x'\n",
    "if a or b:\n",
    "    print('A')\n",
    "else:\n",
    "    print('B')\n",
    "\n",
    "a, b = 0, 'x'\n",
    "if a and b:\n",
    "    print('A')\n",
    "else:\n",
    "    print('B')"
   ]
  },
  {
   "cell_type": "code",
   "execution_count": null,
   "metadata": {},
   "outputs": [],
   "source": [
    "### DON'T TOUCH THIS ###\n",
    "import random\n",
    "animals = ['cat', 'mouse', 'fish']\n",
    "choice = random.choice(animals)\n",
    "### DON'T TOUCH THIS ###\n",
    " \n",
    " \n",
    "## YOUR CODE STARTS HERE:\n",
    "if choice == 'cat':\n",
    "    print('Tom')\n",
    "elif choice == 'mouse':\n",
    "    print('Jerry')\n",
    "else:\n",
    "    print('Neo')"
   ]
  }
 ],
 "metadata": {
  "kernelspec": {
   "display_name": "de-venv",
   "language": "python",
   "name": "python3"
  },
  "language_info": {
   "codemirror_mode": {
    "name": "ipython",
    "version": 3
   },
   "file_extension": ".py",
   "mimetype": "text/x-python",
   "name": "python",
   "nbconvert_exporter": "python",
   "pygments_lexer": "ipython3",
   "version": "3.7.3"
  },
  "orig_nbformat": 4
 },
 "nbformat": 4,
 "nbformat_minor": 2
}
