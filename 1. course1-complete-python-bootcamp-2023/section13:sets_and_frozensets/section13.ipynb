{
 "cells": [
  {
   "cell_type": "code",
   "execution_count": null,
   "metadata": {},
   "outputs": [],
   "source": [
    "# Section 13: Sets and Frozensets in Python"
   ]
  },
  {
   "cell_type": "code",
   "execution_count": 2,
   "metadata": {},
   "outputs": [
    {
     "data": {
      "text/plain": [
       "dict"
      ]
     },
     "execution_count": 2,
     "metadata": {},
     "output_type": "execute_result"
    }
   ],
   "source": [
    "s1= {}\n",
    "type(s1)"
   ]
  },
  {
   "cell_type": "code",
   "execution_count": 4,
   "metadata": {},
   "outputs": [
    {
     "data": {
      "text/plain": [
       "set"
      ]
     },
     "execution_count": 4,
     "metadata": {},
     "output_type": "execute_result"
    }
   ],
   "source": [
    "s1 = set()\n",
    "type(s1)"
   ]
  },
  {
   "cell_type": "code",
   "execution_count": 6,
   "metadata": {},
   "outputs": [
    {
     "data": {
      "text/plain": [
       "{'!', 'e', 'h', 'l', 'o'}"
      ]
     },
     "execution_count": 6,
     "metadata": {},
     "output_type": "execute_result"
    }
   ],
   "source": [
    "# str to set \n",
    "s3 = set('helloooooo!')\n",
    "s3"
   ]
  },
  {
   "cell_type": "code",
   "execution_count": 8,
   "metadata": {},
   "outputs": [
    {
     "data": {
      "text/plain": [
       "{1, 2, 3, 4, 5, 'abc'}"
      ]
     },
     "execution_count": 8,
     "metadata": {},
     "output_type": "execute_result"
    }
   ],
   "source": [
    "# tule to set \n",
    "s5 = set((1,2,3,4,5,'abc',4))\n",
    "s5"
   ]
  },
  {
   "cell_type": "code",
   "execution_count": 9,
   "metadata": {},
   "outputs": [
    {
     "data": {
      "text/plain": [
       "{10, 20, 30, 40, 50}"
      ]
     },
     "execution_count": 9,
     "metadata": {},
     "output_type": "execute_result"
    }
   ],
   "source": [
    "# list to set \n",
    "s6 = set([10,20,30,40,50] )\n",
    "s6"
   ]
  },
  {
   "cell_type": "code",
   "execution_count": 11,
   "metadata": {},
   "outputs": [
    {
     "data": {
      "text/plain": [
       "{'30-24-32-E3-0F-59', '30-24-32-E3-0F-60'}"
      ]
     },
     "execution_count": 11,
     "metadata": {},
     "output_type": "execute_result"
    }
   ],
   "source": [
    "macs = ['30-24-32-E3-0F-59','30-24-32-E3-0F-59','30-24-32-E3-0F-59','30-24-32-E3-0F-59','30-24-32-E3-0F-60']\n",
    "mac_address = set(macs)\n",
    "mac_address"
   ]
  },
  {
   "cell_type": "code",
   "execution_count": 12,
   "metadata": {},
   "outputs": [
    {
     "name": "stdout",
     "output_type": "stream",
     "text": [
      "{3, 4, 5.5, 'a'}\n",
      "['10.0.0.2', '10.0.0.1', '10.0.0.3']\n"
     ]
    }
   ],
   "source": [
    "#1. Create a list called nums_list with the values: 'a', 3, 5.5, 'a', 4\n",
    "nums_list = ['a', 3, 5.5, 'a', 4]\n",
    " \n",
    " \n",
    "#2. Create a tuple called nums_tuple from the nums_list using the tuple() constructor.\n",
    "nums_tuple = tuple(nums_list)\n",
    " \n",
    " \n",
    "#3. Create a set called nums_set from the nums_list using the set() constructor. Print the set.\n",
    "nums_set = set(nums_list)\n",
    "print(nums_set)\n",
    " \n",
    " \n",
    "#4. Given the following list, create a new list called unique_ip that contains only unique values in the ip list.\n",
    "# Print the unique_ip list.\n",
    "ip = ['10.0.0.1', '10.0.0.2', '10.0.0.1', '10.0.0.3', '10.0.0.1', '10.0.0.2']\n",
    "unique_ip = list(set(ip))\n",
    "print(unique_ip)"
   ]
  },
  {
   "cell_type": "code",
   "execution_count": 1,
   "metadata": {},
   "outputs": [
    {
     "name": "stdout",
     "output_type": "stream",
     "text": [
      "False\n"
     ]
    }
   ],
   "source": [
    "# Set Method: Part 1: Add, Remove, Discard, Pop, Clear, Copy\n",
    "print([1,2,3] == [2,3,1])"
   ]
  },
  {
   "cell_type": "code",
   "execution_count": 14,
   "metadata": {},
   "outputs": [
    {
     "name": "stdout",
     "output_type": "stream",
     "text": [
      "True\n"
     ]
    }
   ],
   "source": [
    "# Set method Part2: Union , Intersection, Difference , Symmertric Difference\n",
    "# https://docs.python.org/3/library/stdtypes.html#set\n",
    "\n",
    "# < , <=, > , >=\n",
    "print({1,3} < {1,2,3,4})"
   ]
  },
  {
   "cell_type": "code",
   "execution_count": 19,
   "metadata": {},
   "outputs": [
    {
     "name": "stdout",
     "output_type": "stream",
     "text": [
      "list lookup time :  0.007423877716\n",
      "##################################################\n",
      "set lookup time :  0.0001790523529\n",
      "##################################################\n",
      "List memory consumttopi: 8000056\n",
      "Set memory consumttopi: 268435672\n"
     ]
    },
    {
     "data": {
      "text/plain": [
       "'\\nlist lookup time :  0.01384282112\\n##################################################\\nset lookup time :  0.0001950263977\\n##################################################\\nList memory consumttopi: 8000056\\nSet memory consumttopi: 268435672\\n'"
      ]
     },
     "execution_count": 19,
     "metadata": {},
     "output_type": "execute_result"
    }
   ],
   "source": [
    "# Set Time Complexity and Big-O Notation\n",
    "import time , sys \n",
    "\n",
    "l1 = list(range(1_000_000))\n",
    "start = time.time()\n",
    "#print(start)\n",
    "bv = 456789 in l1 \n",
    "end = time.time()\n",
    "\n",
    "print(f'list lookup time : {end - start: .10}')\n",
    "print('#' * 50)\n",
    "\n",
    "s1 = set(range(1_000_1000))\n",
    "start = time.time()\n",
    "bv = 456789 in s1 \n",
    "end = time.time()\n",
    "\n",
    "print(f'set lookup time : {end - start: .10}')\n",
    "print('#' * 50)\n",
    "\n",
    "print(f'List memory consumttopi: {sys.getsizeof(l1)}')\n",
    "print(f'Set memory consumttopi: {sys.getsizeof(s1)}')\n",
    "# Looking in element in set is 10000 times faster than list \n",
    "'''\n",
    "list lookup time :  0.01384282112\n",
    "##################################################\n",
    "set lookup time :  0.0001950263977\n",
    "##################################################\n",
    "List memory consumttopi: 8000056\n",
    "Set memory consumttopi: 268435672\n",
    "'''"
   ]
  },
  {
   "cell_type": "code",
   "execution_count": 27,
   "metadata": {},
   "outputs": [
    {
     "name": "stdout",
     "output_type": "stream",
     "text": [
      "frozenset({'a', 1, 2, 3, 'b'}) <class 'frozenset'>\n",
      "frozenset({'!', 'n', 't', 'c', 'l', ' ', 'i', 'o', 's', 'P', 'y'})\n",
      "frozenset()\n",
      "frozenset({3, 4})\n",
      "{4}\n",
      "frozenset({1, 2, 3})\n",
      "{10, 20}\n"
     ]
    }
   ],
   "source": [
    "# FrozenSets\n",
    "fs1 = frozenset({1,2,3,'a','b'}) # cant use add, update, delete method \n",
    "print(fs1, type(fs1))\n",
    "\n",
    "s1 = 'Ptyin is cool !'\n",
    "fs2= frozenset(s1)\n",
    "print(fs2)\n",
    "\n",
    "fs3= frozenset() # intersection, ... difference works \n",
    "print(fs3)\n",
    "\n",
    "fs1= frozenset([1,2,3,4])\n",
    "fs2= frozenset([3,4,5,6])\n",
    "print(fs1.intersection(fs2))\n",
    "\n",
    "\n",
    "s1 = {4,10,20}\n",
    "print(s1.intersection(fs1))\n",
    "print(fs1 - s1) # Type frozenset\n",
    "print(s1 - fs1) # Type set"
   ]
  },
  {
   "cell_type": "code",
   "execution_count": 5,
   "metadata": {},
   "outputs": [],
   "source": [
    "#Considering the Python code below, what will return  ?\n",
    "\n",
    "some_letters = {'a', 'b', 'c', 'a', 'b'}\n",
    "# some_letters[0] # TypeError: 'set' object is not subscriptable"
   ]
  },
  {
   "cell_type": "code",
   "execution_count": 6,
   "metadata": {},
   "outputs": [
    {
     "name": "stdout",
     "output_type": "stream",
     "text": [
      "5\n"
     ]
    }
   ],
   "source": [
    "s1 = set('Hellooooo!')\n",
    "print(len(s1))"
   ]
  },
  {
   "cell_type": "code",
   "execution_count": 7,
   "metadata": {},
   "outputs": [
    {
     "ename": "TypeError",
     "evalue": "unhashable type: 'list'",
     "output_type": "error",
     "traceback": [
      "\u001b[0;31m---------------------------------------------------------------------------\u001b[0m",
      "\u001b[0;31mTypeError\u001b[0m                                 Traceback (most recent call last)",
      "\u001b[1;32m/Users/rajsingh/work/repos/github/python-learning/1. course1-complete-python-bootcamp-2023/section13:sets_and_frozensets/section13.ipynb Cell 15\u001b[0m line \u001b[0;36m4\n\u001b[1;32m      <a href='vscode-notebook-cell:/Users/rajsingh/work/repos/github/python-learning/1.%20course1-complete-python-bootcamp-2023/section13%3Asets_and_frozensets/section13.ipynb#X20sZmlsZQ%3D%3D?line=1'>2</a>\u001b[0m x \u001b[39m=\u001b[39m \u001b[39m2\u001b[39m\n\u001b[1;32m      <a href='vscode-notebook-cell:/Users/rajsingh/work/repos/github/python-learning/1.%20course1-complete-python-bootcamp-2023/section13%3Asets_and_frozensets/section13.ipynb#X20sZmlsZQ%3D%3D?line=2'>3</a>\u001b[0m y \u001b[39m=\u001b[39m \u001b[39m3.5\u001b[39m\n\u001b[0;32m----> <a href='vscode-notebook-cell:/Users/rajsingh/work/repos/github/python-learning/1.%20course1-complete-python-bootcamp-2023/section13%3Asets_and_frozensets/section13.ipynb#X20sZmlsZQ%3D%3D?line=3'>4</a>\u001b[0m set1 \u001b[39m=\u001b[39m {x, y, list1}\n",
      "\u001b[0;31mTypeError\u001b[0m: unhashable type: 'list'"
     ]
    }
   ],
   "source": [
    "list1 = [1, 2]\n",
    "x = 2\n",
    "y = 3.5\n",
    "set1 = {x, y, list1}"
   ]
  },
  {
   "cell_type": "code",
   "execution_count": 8,
   "metadata": {},
   "outputs": [],
   "source": [
    "#Considering the following Python code, what will return the statement 'd' in set1 ?\n",
    "\n",
    "set1 = set('abc')\n",
    "set2 = set1\n",
    "set2.add('d')\n"
   ]
  },
  {
   "cell_type": "code",
   "execution_count": 9,
   "metadata": {},
   "outputs": [],
   "source": [
    "#Considering the following Python code, what will return the statement 'd' in set1 ?\n",
    "\n",
    "set1 = set('abc')\n",
    "set2 = set1.copy()\n",
    "set2.add('d')"
   ]
  },
  {
   "cell_type": "code",
   "execution_count": 10,
   "metadata": {},
   "outputs": [
    {
     "name": "stdout",
     "output_type": "stream",
     "text": [
      "False True\n"
     ]
    }
   ],
   "source": [
    "var1, var2 = [1, 2, 3], {1, 2, 3}\n",
    "print(var1 == [2, 3, 1], var2 == {2, 3, 1})"
   ]
  },
  {
   "cell_type": "code",
   "execution_count": 11,
   "metadata": {},
   "outputs": [
    {
     "name": "stdout",
     "output_type": "stream",
     "text": [
      "{'!', ' ', 'b', 'y'}\n"
     ]
    }
   ],
   "source": [
    "s1 = set('bye bye!')\n",
    "s1.remove('e')\n",
    "print(s1)"
   ]
  },
  {
   "cell_type": "code",
   "execution_count": 12,
   "metadata": {},
   "outputs": [
    {
     "name": "stdout",
     "output_type": "stream",
     "text": [
      "True\n"
     ]
    }
   ],
   "source": [
    "s1 = set('aaaaaaaa')\n",
    "s1.discard('a')\n",
    "print(s1 == set())"
   ]
  },
  {
   "cell_type": "code",
   "execution_count": 15,
   "metadata": {},
   "outputs": [],
   "source": [
    "set1 = {'a', 'b', 'c'}\n",
    "set2 = {'c', 'd', 'e'}\n",
    " \n",
    "# union() or | returns the set of all unique elements present in all the sets.\n",
    "#set3 = set1 | set2\n",
    "set3 = set1.union(set2)\n",
    " \n",
    "# intersection() or &  returns the set that contains the elements that exist in both sets\n",
    "#set4 = set1 & set2\n",
    "set4 = set1.intersection(set2)\n",
    " \n",
    "# difference() or - returns the set of elements that  exist only in set1, but not in set2.\n",
    "#set5 = set1 - set2\n",
    "set5 = set1.difference(set2)\n",
    " \n",
    "# Removing 'c' from set1\n",
    "set1.discard('c')"
   ]
  },
  {
   "cell_type": "code",
   "execution_count": 28,
   "metadata": {},
   "outputs": [
    {
     "name": "stdout",
     "output_type": "stream",
     "text": [
      "{3}\n"
     ]
    }
   ],
   "source": [
    "set1 = {1, 2, 3}\n",
    "set2 = {3, 4, 5}\n",
    "print(set1 & set2)"
   ]
  },
  {
   "cell_type": "code",
   "execution_count": 29,
   "metadata": {},
   "outputs": [
    {
     "name": "stdout",
     "output_type": "stream",
     "text": [
      "{1, 2, 3, 4, 5}\n"
     ]
    }
   ],
   "source": [
    "set1 = {1, 2, 3}\n",
    "set2 = {3, 4, 5}\n",
    "print(set1.union(set2))"
   ]
  },
  {
   "cell_type": "code",
   "execution_count": 30,
   "metadata": {},
   "outputs": [
    {
     "name": "stdout",
     "output_type": "stream",
     "text": [
      "{1, 2}\n"
     ]
    }
   ],
   "source": [
    "# A- B\n",
    "set1 = {1, 2, 3}\n",
    "set2 = {3, 4, 5}\n",
    "print(set1.difference(set2))\n"
   ]
  },
  {
   "cell_type": "code",
   "execution_count": 31,
   "metadata": {},
   "outputs": [
    {
     "name": "stdout",
     "output_type": "stream",
     "text": [
      "True\n"
     ]
    }
   ],
   "source": [
    "fs = frozenset((1,1,2,'a'))\n",
    "print(1 in fs)"
   ]
  },
  {
   "cell_type": "code",
   "execution_count": 32,
   "metadata": {},
   "outputs": [
    {
     "name": "stdout",
     "output_type": "stream",
     "text": [
      "BB\n"
     ]
    }
   ],
   "source": [
    "digits = '0123456789'\n",
    "name = 'Victor'\n",
    " \n",
    "if set(name) & set(digits):\n",
    "    print('AA')\n",
    "else:\n",
    "    print('BB')"
   ]
  },
  {
   "cell_type": "code",
   "execution_count": 34,
   "metadata": {},
   "outputs": [],
   "source": [
    "my_str = 'abc'\n",
    "s1 = set(my_str)\n",
    "fs1 = frozenset(my_str)\n",
    "\n",
    "s2 = {1, True, fs1}"
   ]
  },
  {
   "cell_type": "code",
   "execution_count": null,
   "metadata": {},
   "outputs": [],
   "source": [
    "my_str = 'abc'\n",
    "s1 = set(my_str)\n",
    "fs1 = frozenset(my_str)\n",
    "print(s1 == s1 | fs1)"
   ]
  }
 ],
 "metadata": {
  "kernelspec": {
   "display_name": "de-venv3.9",
   "language": "python",
   "name": "python3"
  },
  "language_info": {
   "codemirror_mode": {
    "name": "ipython",
    "version": 3
   },
   "file_extension": ".py",
   "mimetype": "text/x-python",
   "name": "python",
   "nbconvert_exporter": "python",
   "pygments_lexer": "ipython3",
   "version": "3.9.12"
  },
  "orig_nbformat": 4
 },
 "nbformat": 4,
 "nbformat_minor": 2
}
