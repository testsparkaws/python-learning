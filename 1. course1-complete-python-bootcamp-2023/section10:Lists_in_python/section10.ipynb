{
 "cells": [
  {
   "cell_type": "code",
   "execution_count": 1,
   "metadata": {},
   "outputs": [
    {
     "data": {
      "text/plain": [
       "[1, 2.5, 'Python', True, ['abc', 'xyz'], (10, 20, 30)]"
      ]
     },
     "execution_count": 1,
     "metadata": {},
     "output_type": "execute_result"
    }
   ],
   "source": [
    "# Python List \n",
    "\n",
    "l1 = [1, 2.5, 'Python', True, ['abc','xyz'], (10,20,30)]\n",
    "l1 \n",
    "# mutable vs immutable "
   ]
  },
  {
   "cell_type": "code",
   "execution_count": 6,
   "metadata": {},
   "outputs": [
    {
     "name": "stdout",
     "output_type": "stream",
     "text": [
      "[3, 4, 1, 2, 3, ['a', 'b']]\n",
      "[3, 4, 1, 2, 3, ['a', 'b'], 'x', 'y']\n"
     ]
    },
    {
     "ename": "TypeError",
     "evalue": "'int' object is not iterable",
     "output_type": "error",
     "traceback": [
      "\u001b[0;31m---------------------------------------------------------------------------\u001b[0m",
      "\u001b[0;31mTypeError\u001b[0m                                 Traceback (most recent call last)",
      "\u001b[1;32m/Users/rajsingh/work/repos/github/python-learning/1. course1-complete-python-bootcamp-2023/section10:Lists_in_python/section10.ipynb Cell 2\u001b[0m line \u001b[0;36m1\n\u001b[1;32m      <a href='vscode-notebook-cell:/Users/rajsingh/work/repos/github/python-learning/1.%20course1-complete-python-bootcamp-2023/section10%3ALists_in_python/section10.ipynb#W1sZmlsZQ%3D%3D?line=8'>9</a>\u001b[0m l1\u001b[39m.\u001b[39mextend([\u001b[39m'\u001b[39m\u001b[39mx\u001b[39m\u001b[39m'\u001b[39m,\u001b[39m'\u001b[39m\u001b[39my\u001b[39m\u001b[39m'\u001b[39m])\n\u001b[1;32m     <a href='vscode-notebook-cell:/Users/rajsingh/work/repos/github/python-learning/1.%20course1-complete-python-bootcamp-2023/section10%3ALists_in_python/section10.ipynb#W1sZmlsZQ%3D%3D?line=9'>10</a>\u001b[0m \u001b[39mprint\u001b[39m(l1)\n\u001b[0;32m---> <a href='vscode-notebook-cell:/Users/rajsingh/work/repos/github/python-learning/1.%20course1-complete-python-bootcamp-2023/section10%3ALists_in_python/section10.ipynb#W1sZmlsZQ%3D%3D?line=12'>13</a>\u001b[0m l1\u001b[39m.\u001b[39;49mextend(\u001b[39m2\u001b[39;49m)\n",
      "\u001b[0;31mTypeError\u001b[0m: 'int' object is not iterable"
     ]
    }
   ],
   "source": [
    "# List Concatenation , Append And Extend \n",
    "l1 = [3,4]\n",
    "l1.extend([1,2,3])\n",
    "l1 \n",
    "\n",
    "# append vs extend \n",
    "l1.append(['a','b'])\n",
    "print(l1)\n",
    "l1.extend(['x','y'])\n",
    "print(l1)\n",
    "\n",
    "\n",
    "# l1.extend(2)\n",
    "\n"
   ]
  },
  {
   "cell_type": "code",
   "execution_count": 7,
   "metadata": {},
   "outputs": [
    {
     "name": "stdout",
     "output_type": "stream",
     "text": [
      "['l', 'i', 's', 't', 'l', 'i', 's', 't', 'l', 'i', 's', 't']\n"
     ]
    }
   ],
   "source": [
    "l1 = list('list')\n",
    "l2 = l1 * 3\n",
    "print(l2)"
   ]
  },
  {
   "cell_type": "code",
   "execution_count": 9,
   "metadata": {},
   "outputs": [
    {
     "name": "stdout",
     "output_type": "stream",
     "text": [
      "########## LIST SLCING  ##########\n"
     ]
    }
   ],
   "source": [
    "# List Slicing & Iteration\n",
    "print('#' * 10 + ' LIST SLCING  '+ '#' * 10)"
   ]
  },
  {
   "cell_type": "code",
   "execution_count": 12,
   "metadata": {},
   "outputs": [
    {
     "name": "stdout",
     "output_type": "stream",
     "text": [
      "l1:  ['XX', 2, 3, 10]\n",
      "l1:  ['XX', 2, 3, 10]\n",
      "140353930741120 140353930741120\n"
     ]
    }
   ],
   "source": [
    "# PYTHON LIST GOTCHAS\n",
    "l1  = [1,2,3]\n",
    "l2 = l1 \n",
    "\n",
    "l2[0] = 'XX'\n",
    "l2.append(10)\n",
    "\n",
    "print('l1: ', l1)\n",
    "print('l1: ', l2)\n",
    "\n",
    "print(id(l1) , id(l2))"
   ]
  },
  {
   "cell_type": "code",
   "execution_count": 13,
   "metadata": {},
   "outputs": [],
   "source": [
    "l1.remove(2)"
   ]
  },
  {
   "cell_type": "code",
   "execution_count": 15,
   "metadata": {},
   "outputs": [
    {
     "name": "stdout",
     "output_type": "stream",
     "text": [
      "l1:  ['XX', 3, 10]\n",
      "l1:  ['XX', 3, 10]\n"
     ]
    }
   ],
   "source": [
    "print('l1: ', l1)\n",
    "print('l1: ', l2)"
   ]
  },
  {
   "cell_type": "code",
   "execution_count": 16,
   "metadata": {},
   "outputs": [
    {
     "name": "stdout",
     "output_type": "stream",
     "text": [
      "l1:  ['XX', 3, 10]\n",
      "l2:  ['XX', 3, 10]\n",
      "l3:  ['XX', 3, 10, 'abc']\n",
      "140353930741120 140353930741120 140353932841664\n"
     ]
    }
   ],
   "source": [
    "l3 = l1.copy()\n",
    "l3.append('abc')\n",
    "print('l1: ', l1)\n",
    "print('l2: ', l2)\n",
    "print('l3: ', l3)\n",
    "\n",
    "print(id(l1) , id(l2), id(l3))"
   ]
  },
  {
   "cell_type": "code",
   "execution_count": 17,
   "metadata": {},
   "outputs": [
    {
     "data": {
      "text/plain": [
       "[4, 5, 6, 7, 1, 2]"
      ]
     },
     "execution_count": 17,
     "metadata": {},
     "output_type": "execute_result"
    }
   ],
   "source": [
    "# 2. \n",
    "nums = [1,2,3,4,5,6,7,0,1,2]\n",
    "# This is WROONG \n",
    "for n in nums:\n",
    "    if n < 5:\n",
    "        nums.remove(n)\n",
    "nums "
   ]
  },
  {
   "cell_type": "code",
   "execution_count": 20,
   "metadata": {},
   "outputs": [
    {
     "data": {
      "text/plain": [
       "[5, 6, 7]"
      ]
     },
     "execution_count": 20,
     "metadata": {},
     "output_type": "execute_result"
    }
   ],
   "source": [
    "# Correct solution\n",
    "new_list= list()\n",
    "for n in nums:\n",
    "    if n>=5:\n",
    "        new_list.append(n)\n",
    "\n",
    "new_list\n",
    "\n",
    "# or can use List COmpreshension \n",
    "my_list = [n for n in nums if n>= 5]\n",
    "my_list \n"
   ]
  },
  {
   "cell_type": "code",
   "execution_count": 22,
   "metadata": {},
   "outputs": [
    {
     "name": "stdout",
     "output_type": "stream",
     "text": [
      "Help on built-in function append:\n",
      "\n",
      "append(object, /) method of builtins.list instance\n",
      "    Append object to the end of the list.\n",
      "\n"
     ]
    }
   ],
   "source": [
    "# List Method part 1: Append, Extend , Insert, Copy , clear, pop , remove \n",
    "help(l1.append)"
   ]
  },
  {
   "cell_type": "code",
   "execution_count": 23,
   "metadata": {},
   "outputs": [
    {
     "name": "stdout",
     "output_type": "stream",
     "text": [
      "['XX', 3, 2022, 10]\n"
     ]
    }
   ],
   "source": [
    "l1.insert(-1, 2022)\n",
    "print(l1)"
   ]
  },
  {
   "cell_type": "code",
   "execution_count": 25,
   "metadata": {},
   "outputs": [
    {
     "name": "stdout",
     "output_type": "stream",
     "text": [
      "[10, 10, 40, 10, 'z']\n"
     ]
    }
   ],
   "source": [
    "l3 = [10,20,10,40,20,10,20,20,'z']\n",
    "while 20 in l3:\n",
    "    l3.remove(20)\n",
    "print(l3)"
   ]
  },
  {
   "cell_type": "code",
   "execution_count": 26,
   "metadata": {},
   "outputs": [],
   "source": [
    "# List Method Part 2: Index, Count(), Max() min(), SUM()"
   ]
  },
  {
   "cell_type": "code",
   "execution_count": 30,
   "metadata": {},
   "outputs": [
    {
     "data": {
      "text/plain": [
       "['x', 10, 'abc', 3, 1]"
      ]
     },
     "execution_count": 30,
     "metadata": {},
     "output_type": "execute_result"
    }
   ],
   "source": [
    "l1 = [1,3, 'abc',10,'x']\n",
    "l1.reverse()\n",
    "l1"
   ]
  },
  {
   "cell_type": "code",
   "execution_count": 31,
   "metadata": {},
   "outputs": [],
   "source": [
    "# Converting String to LIST AND LISt to STRING : split() and Join()"
   ]
  },
  {
   "cell_type": "code",
   "execution_count": 32,
   "metadata": {},
   "outputs": [
    {
     "data": {
      "text/plain": [
       "\"\\n    ● join() is another string method that concatenates the elements of a list that is passed in \\n    as argument into a string. It returns a new string.\\n    The string that is used to call join() on, will be put in between every item in the list.\\n    We use split() to convert a list to a string. \\n    >>> lang_list = ['Python', 'Go', 'Java', 'Ruby', 'C++', 'PHP']\\n    >>> ':'.join(lang_list)\\n    'Python:Go:Java:Ruby:C++:PHP' Master Python Programming\\n\""
      ]
     },
     "execution_count": 32,
     "metadata": {},
     "output_type": "execute_result"
    }
   ],
   "source": [
    "# Split and Join\n",
    "'''\n",
    "    ● split() is a string method that having a delimiter or separator, which is by default a \n",
    "    whitespace or a tab, returns a new list of the words in the string using the delimiter \n",
    "    passed in as argument. We use split() to convert a string to a list. \n",
    "    >>> languages = 'Python Go Java Ruby C++ PHP'\n",
    "    >>> languages.split()\n",
    "    ['Python', 'Go', 'Java', 'Ruby', 'C++', 'PHP']\n",
    "\n",
    "'''\n",
    "\n",
    "# join()\n",
    "'''\n",
    "    ● join() is another string method that concatenates the elements of a list that is passed in \n",
    "    as argument into a string. It returns a new string.\n",
    "    The string that is used to call join() on, will be put in between every item in the list.\n",
    "    We use split() to convert a list to a string. \n",
    "    >>> lang_list = ['Python', 'Go', 'Java', 'Ruby', 'C++', 'PHP']\n",
    "    >>> ':'.join(lang_list)\n",
    "    'Python:Go:Java:Ruby:C++:PHP' Master Python Programming\n",
    "'''"
   ]
  },
  {
   "cell_type": "code",
   "execution_count": 43,
   "metadata": {},
   "outputs": [
    {
     "name": "stdout",
     "output_type": "stream",
     "text": [
      "IPV4 :         inet 192.168.0.105  netmask 255.255.255.0  broadcast 192.168.0.255 ====>  192.168.0.105\n",
      "IPV6 :         inet6 fe80::6ec6:fea5:4a08:33ae  prefixlen 64  scopeid 0x20<link>  ====>  fe80::6ec6:fea5:4a08:33ae\n",
      "MAC Address :         ether 14:13:33:ee:9c:1b  txqueuelen 1000  (Ethernet)  ====>  14:13:33:ee:9c:1b\n"
     ]
    }
   ],
   "source": [
    "# Project: Extract IPV4, IPV6 and MAC Address\n",
    "# list_project_extract_ip.py \n",
    "interface = '''wlo1: flags=4163<UP,BROADCAST,RUNNING,MULTICAST>  mtu 1500\n",
    "        inet 192.168.0.105  netmask 255.255.255.0  broadcast 192.168.0.255\n",
    "        inet6 fe80::6ec6:fea5:4a08:33ae  prefixlen 64  scopeid 0x20<link>\n",
    "        ether 14:13:33:ee:9c:1b  txqueuelen 1000  (Ethernet)\n",
    "        RX packets 1007942  bytes 902567350 (902.5 MB)\n",
    "        RX errors 0  dropped 0  overruns 0  frame 0\n",
    "        TX packets 531217  bytes 158518152 (158.5 MB)\n",
    "        TX errors 0  dropped 0 overruns 0  carrier 0  collisions 0'''\n",
    "interface\n",
    "\n",
    "interface_list = interface.split(\"\\n\")\n",
    "interface_list\n",
    "\n",
    "ip_mac = list()\n",
    "\n",
    "for iter in interface_list[1:4]:\n",
    "    if \"inet \" in iter:\n",
    "        print(f\"IPV4 : {iter} ====>  {iter.split()[1]}\")\n",
    "    elif \"inet6\" in iter:\n",
    "        print(f\"IPV6 : {iter}  ====>  {iter.split()[1]}\")\n",
    "    elif \"ether\" in iter:\n",
    "        print(f\"MAC Address : {iter}  ====>  {iter.split()[1]}\")\n"
   ]
  },
  {
   "cell_type": "code",
   "execution_count": 47,
   "metadata": {},
   "outputs": [
    {
     "name": "stdout",
     "output_type": "stream",
     "text": [
      "['192.168.0.105', 'fe80::6ec6:fea5:4a08:33ae', '14:13:33:ee:9c:1b']\n",
      "192.168.0.105,fe80::6ec6:fea5:4a08:33ae,14:13:33:ee:9c:1b\n"
     ]
    }
   ],
   "source": [
    "ip_mac = list()\n",
    "for line in interface_list[1:4]:\n",
    "    tmp_list = line.split()\n",
    "    ip_mac.append(tmp_list[1])\n",
    "\n",
    "print(ip_mac)\n",
    "ip_mac_str = ','.join(ip_mac)\n",
    "print(ip_mac_str)"
   ]
  },
  {
   "cell_type": "code",
   "execution_count": 48,
   "metadata": {},
   "outputs": [
    {
     "name": "stdout",
     "output_type": "stream",
     "text": [
      "[-4, 1, 10, 2.4, 5.5]\n"
     ]
    }
   ],
   "source": [
    "nums = [-4, 1, 10, 2.4, 5.5]\n",
    "sorted(nums, reverse=True)\n",
    "print(nums)"
   ]
  },
  {
   "cell_type": "code",
   "execution_count": 49,
   "metadata": {},
   "outputs": [
    {
     "name": "stdout",
     "output_type": "stream",
     "text": [
      "[2022, 2020, 2021]\n"
     ]
    }
   ],
   "source": [
    "years = [2022, 2020, 2021]\n",
    "sorted(years)\n",
    "print(years)"
   ]
  },
  {
   "cell_type": "code",
   "execution_count": 50,
   "metadata": {},
   "outputs": [
    {
     "name": "stdout",
     "output_type": "stream",
     "text": [
      "[2020, 2021, 2022]\n"
     ]
    }
   ],
   "source": [
    "years = [2022, 2020, 2021]\n",
    "years.sort()\n",
    "print(years)"
   ]
  },
  {
   "cell_type": "code",
   "execution_count": 51,
   "metadata": {},
   "outputs": [
    {
     "name": "stdout",
     "output_type": "stream",
     "text": [
      "2\n"
     ]
    }
   ],
   "source": [
    "l1 = [10, 20, 30, 10, 20, 100, 10]\n",
    "l1.pop(3)\n",
    "n = l1.count(10)\n",
    "print(n)"
   ]
  },
  {
   "cell_type": "code",
   "execution_count": 52,
   "metadata": {},
   "outputs": [
    {
     "name": "stdout",
     "output_type": "stream",
     "text": [
      "0\n"
     ]
    }
   ],
   "source": [
    "l1 = [10, 20, 30, 10, 20, 100, 10]\n",
    "l1.pop()\n",
    "n = l1.index(10)\n",
    "print(n)"
   ]
  },
  {
   "cell_type": "code",
   "execution_count": 53,
   "metadata": {},
   "outputs": [],
   "source": [
    "animals = ['Cat', 'Dog']\n",
    " \n",
    "# Add an element at the end of the list. The new element stores the string 'Donkey'\n",
    "# animals will be ['Cat', 'Dog', 'Donkey']\n",
    "animals.append('Donkey')\n",
    " \n",
    " \n",
    "# Add an element at position 2. This will be the 2nd element and will store the string 'Horse'\n",
    "# animals will be ['Cat', 'Horse', 'Dog', 'Donkey']\n",
    "animals.insert(1, 'Horse')\n",
    " \n",
    "# Return the index of the element with value 'Cat'\n",
    "cat_index = animals.index('Cat')\n",
    " \n",
    "# Make a string variable named str_animals from the list by joining the elements of the list using '-' as a delimiter\n",
    "# str_animals will be 'Cat-Horse-Dog-Donkey'\n",
    "str_animals = '-'.join(animals)"
   ]
  },
  {
   "cell_type": "code",
   "execution_count": 56,
   "metadata": {},
   "outputs": [
    {
     "data": {
      "text/plain": [
       "[20, 10, 30, 40]"
      ]
     },
     "execution_count": 56,
     "metadata": {},
     "output_type": "execute_result"
    }
   ],
   "source": [
    "# List Comprehension\n",
    "clicks = [10,5, 15, 20]\n",
    "doubled_list = list()\n",
    "for c in clicks:\n",
    "    doubled_list.append(c*2)\n",
    "doubled_list"
   ]
  },
  {
   "cell_type": "code",
   "execution_count": 58,
   "metadata": {},
   "outputs": [
    {
     "data": {
      "text/plain": [
       "[20, 10, 30, 40]"
      ]
     },
     "execution_count": 58,
     "metadata": {},
     "output_type": "execute_result"
    }
   ],
   "source": [
    "# [Expression for item in iterable ]\n",
    "doubled_numbers = [c*2 for c in clicks ]\n",
    "doubled_numbers"
   ]
  },
  {
   "cell_type": "code",
   "execution_count": 59,
   "metadata": {},
   "outputs": [
    {
     "data": {
      "text/plain": [
       "['A', 'n', 't', 'r', 'i', 'e']"
      ]
     },
     "execution_count": 59,
     "metadata": {},
     "output_type": "execute_result"
    }
   ],
   "source": [
    "name = 'Andrie'\n",
    "l1 = [char for char in name]\n",
    "l1"
   ]
  },
  {
   "cell_type": "code",
   "execution_count": 60,
   "metadata": {},
   "outputs": [
    {
     "data": {
      "text/plain": [
       "['AAA', 'nnn', 'ddd', 'rrr', 'iii', 'eee']"
      ]
     },
     "execution_count": 60,
     "metadata": {},
     "output_type": "execute_result"
    }
   ],
   "source": [
    "name = 'Andrie'\n",
    "l2 = [char * 3 for char in name]\n",
    "l2"
   ]
  },
  {
   "cell_type": "code",
   "execution_count": 61,
   "metadata": {},
   "outputs": [
    {
     "data": {
      "text/plain": [
       "['AAA', 'NNN', 'DDD', 'RRR', 'III', 'EEE']"
      ]
     },
     "execution_count": 61,
     "metadata": {},
     "output_type": "execute_result"
    }
   ],
   "source": [
    "name = 'Andrie'\n",
    "l2 = [(char * 3).upper() for char in name]\n",
    "l2"
   ]
  },
  {
   "cell_type": "code",
   "execution_count": 62,
   "metadata": {},
   "outputs": [
    {
     "data": {
      "text/plain": [
       "['Anderi', 'Diana', 'Paul']"
      ]
     },
     "execution_count": 62,
     "metadata": {},
     "output_type": "execute_result"
    }
   ],
   "source": [
    "friends = ['Anderi', 'diana', 'paul']\n",
    "my_friends = [item.capitalize() for item in friends]\n",
    "my_friends"
   ]
  },
  {
   "cell_type": "code",
   "execution_count": 63,
   "metadata": {},
   "outputs": [
    {
     "data": {
      "text/plain": [
       "['irednA', 'anaid', 'luap']"
      ]
     },
     "execution_count": 63,
     "metadata": {},
     "output_type": "execute_result"
    }
   ],
   "source": [
    "my_friends = [item[::-1] for item in friends]\n",
    "my_friends"
   ]
  },
  {
   "cell_type": "code",
   "execution_count": 67,
   "metadata": {},
   "outputs": [
    {
     "data": {
      "text/plain": [
       "[7, 14, 21]"
      ]
     },
     "execution_count": 67,
     "metadata": {},
     "output_type": "execute_result"
    }
   ],
   "source": [
    "# List Comprehension Part2\n",
    "# [Expression for item in iterable if condition ]\n",
    "nums = [1,7,8,14,21]\n",
    "divisibile_by_seven = [n for n in nums if n % 7  == 0]\n",
    "divisibile_by_seven"
   ]
  },
  {
   "cell_type": "code",
   "execution_count": 73,
   "metadata": {},
   "outputs": [
    {
     "name": "stdout",
     "output_type": "stream",
     "text": [
      "['1', '7', '8', '14', '21']\n",
      "1-7-8-14-21\n"
     ]
    }
   ],
   "source": [
    "nums_str  = [ str(n) for n in nums ]\n",
    "print(nums_str)\n",
    "\n",
    "print('-'.join(nums_str))\n",
    "# print('-'.join(nums)) -error"
   ]
  },
  {
   "cell_type": "code",
   "execution_count": 76,
   "metadata": {},
   "outputs": [
    {
     "data": {
      "text/plain": [
       "['John', 'Dan']"
      ]
     },
     "execution_count": 76,
     "metadata": {},
     "output_type": "execute_result"
    }
   ],
   "source": [
    "friends = ['John', 'Dan', 'Marry']\n",
    "neighbors = ['Tim','Steve','Dan','John']\n",
    "\n",
    "friends_and_neignhour = [name for name in friends if name in neighbors]\n",
    "friends_and_neignhour"
   ]
  },
  {
   "cell_type": "code",
   "execution_count": 79,
   "metadata": {},
   "outputs": [
    {
     "name": "stdout",
     "output_type": "stream",
     "text": [
      "['john', 'dan', 'marry']\n"
     ]
    },
    {
     "data": {
      "text/plain": [
       "['Dan', 'John']"
      ]
     },
     "execution_count": 79,
     "metadata": {},
     "output_type": "execute_result"
    }
   ],
   "source": [
    "friends = ['JoHn', 'dan', 'Marry']\n",
    "neighbors = ['Tim','Steve','DAN','John']\n",
    "\n",
    "friends_and_neignhour = [name for name in friends if name in neighbors]\n",
    "friends_and_neignhour\n",
    "\n",
    "friends_lower = [name.lower() for name in friends ]\n",
    "print(friends_lower)\n",
    "fn = [name.capitalize() for name in neighbors if name.lower() in friends_lower ]\n",
    "fn"
   ]
  },
  {
   "cell_type": "code",
   "execution_count": 80,
   "metadata": {},
   "outputs": [],
   "source": [
    "# Project : Countries with Longest/Shortest names"
   ]
  },
  {
   "cell_type": "code",
   "execution_count": 82,
   "metadata": {},
   "outputs": [
    {
     "data": {
      "text/plain": [
       "['Argentina',\n",
       " 'Somalia',\n",
       " 'Tuvalu',\n",
       " 'Malta',\n",
       " 'Armenia',\n",
       " 'Christmas Island',\n",
       " 'Uganda',\n",
       " 'Central African Republic',\n",
       " 'Gambia',\n",
       " 'Morocco',\n",
       " 'Sint Maarten (Dutch part)',\n",
       " 'Tunisia',\n",
       " 'Aland Islands',\n",
       " 'Angola',\n",
       " 'Yemen',\n",
       " 'Niue',\n",
       " 'Brunei Darussalam',\n",
       " 'Sudan',\n",
       " 'Holy See (Vatican City State)',\n",
       " 'Malaysia',\n",
       " 'New Zealand',\n",
       " 'Palestinian Territory, Occupied',\n",
       " 'Iran, Islamic Republic of',\n",
       " 'Macedonia, Republic of',\n",
       " 'Montenegro',\n",
       " 'Macao',\n",
       " 'Belarus',\n",
       " 'Netherlands',\n",
       " 'Greenland',\n",
       " 'Thailand',\n",
       " 'French Southern Territories',\n",
       " 'Cyprus',\n",
       " \"Korea, Democratic People's Republic of\",\n",
       " 'Rwanda',\n",
       " 'Ethiopia',\n",
       " 'Saint Barthélemy',\n",
       " 'Botswana',\n",
       " 'Puerto Rico',\n",
       " 'Cape Verde',\n",
       " 'Nicaragua',\n",
       " 'Croatia',\n",
       " 'Guadeloupe',\n",
       " 'Réunion',\n",
       " 'Belize',\n",
       " 'Northern Mariana Islands',\n",
       " 'Indonesia',\n",
       " 'Serbia',\n",
       " 'British Indian Ocean Territory',\n",
       " 'Wallis and Futuna',\n",
       " 'Saint Martin (French part)',\n",
       " 'Nigeria',\n",
       " 'Spain',\n",
       " 'Guernsey',\n",
       " 'Guyana',\n",
       " 'Namibia',\n",
       " 'Venezuela, Bolivarian Republic of',\n",
       " 'Pitcairn',\n",
       " 'Suriname',\n",
       " 'Switzerland',\n",
       " 'Portugal',\n",
       " 'Saudi Arabia',\n",
       " 'Tanzania, United Republic of',\n",
       " 'Norfolk Island',\n",
       " 'Iceland',\n",
       " 'Ukraine',\n",
       " 'Estonia',\n",
       " 'Nauru',\n",
       " 'Comoros',\n",
       " 'Andorra',\n",
       " 'Turks and Caicos Islands',\n",
       " 'Guatemala',\n",
       " 'Cameroon',\n",
       " 'Chile',\n",
       " 'Bulgaria',\n",
       " 'Afghanistan',\n",
       " 'Sri Lanka',\n",
       " 'Romania',\n",
       " 'Tokelau',\n",
       " 'Montserrat',\n",
       " 'Congo',\n",
       " 'Congo, The Democratic Republic of the',\n",
       " 'Luxembourg',\n",
       " 'Bolivia, Plurinational State of',\n",
       " 'South Georgia and the South Sandwich Islands',\n",
       " 'Djibouti',\n",
       " 'Brazil',\n",
       " 'Burkina Faso',\n",
       " 'Curaçao',\n",
       " 'Heard Island and McDonald Islands',\n",
       " 'Cook Islands',\n",
       " 'Cocos (Keeling) Islands',\n",
       " 'China',\n",
       " 'Haiti',\n",
       " 'Swaziland',\n",
       " 'Mali',\n",
       " 'Burundi',\n",
       " 'Taiwan, Province of China',\n",
       " 'Ireland',\n",
       " 'Maldives',\n",
       " 'France',\n",
       " 'Martinique',\n",
       " 'Nepal',\n",
       " 'Saint Lucia',\n",
       " 'Uruguay',\n",
       " 'Seychelles',\n",
       " 'Algeria',\n",
       " 'Panama',\n",
       " 'Anguilla',\n",
       " 'Cuba',\n",
       " 'San Marino',\n",
       " 'Dominica',\n",
       " 'Germany',\n",
       " 'Iraq',\n",
       " 'Chad',\n",
       " 'Tonga',\n",
       " 'Qatar',\n",
       " 'Lesotho',\n",
       " 'Liberia',\n",
       " 'Bosnia and Herzegovina',\n",
       " 'Canada',\n",
       " 'Turkey',\n",
       " 'French Guiana',\n",
       " 'Jersey',\n",
       " 'Niger',\n",
       " 'Paraguay',\n",
       " 'Bangladesh',\n",
       " 'Barbados',\n",
       " 'Mauritius',\n",
       " 'United Kingdom',\n",
       " 'Bhutan',\n",
       " 'Isle of Man',\n",
       " 'Svalbard and Jan Mayen',\n",
       " 'Falkland Islands (Malvinas)',\n",
       " \"Lao People's Democratic Republic\",\n",
       " 'Saint Vincent and the Grenadines',\n",
       " 'Korea, Republic of',\n",
       " 'Dominican Republic',\n",
       " 'Philippines',\n",
       " 'Austria',\n",
       " 'Samoa',\n",
       " 'South Africa',\n",
       " 'Australia',\n",
       " 'Bahamas',\n",
       " 'Fiji',\n",
       " 'Mayotte',\n",
       " 'Albania',\n",
       " 'Sierra Leone',\n",
       " 'Gibraltar',\n",
       " 'Kazakhstan',\n",
       " 'French Polynesia',\n",
       " 'Jordan',\n",
       " 'Ecuador',\n",
       " 'Liechtenstein',\n",
       " 'Solomon Islands',\n",
       " 'Belgium',\n",
       " 'Gabon',\n",
       " 'Bermuda',\n",
       " 'Georgia',\n",
       " 'Saint Pierre and Miquelon',\n",
       " 'Ghana',\n",
       " 'Guinea',\n",
       " 'Singapore',\n",
       " 'Vanuatu',\n",
       " 'New Caledonia',\n",
       " 'Sao Tome and Principe',\n",
       " 'Mexico',\n",
       " 'Equatorial Guinea',\n",
       " 'Pakistan',\n",
       " 'Marshall Islands',\n",
       " 'Jamaica',\n",
       " 'Antigua and Barbuda',\n",
       " 'South Sudan',\n",
       " 'Japan',\n",
       " 'Slovenia',\n",
       " 'Moldova, Republic of',\n",
       " 'Virgin Islands, British',\n",
       " 'Latvia',\n",
       " 'Kenya',\n",
       " 'Trinidad and Tobago',\n",
       " 'Norway',\n",
       " 'Timor-Leste',\n",
       " 'Faroe Islands',\n",
       " 'Zimbabwe',\n",
       " 'Kuwait',\n",
       " 'Mozambique',\n",
       " 'Mauritania',\n",
       " 'Benin',\n",
       " 'Togo',\n",
       " 'Sweden',\n",
       " 'Cayman Islands',\n",
       " 'Mongolia',\n",
       " 'United States',\n",
       " 'United States Minor Outlying Islands',\n",
       " 'Papua New Guinea',\n",
       " 'Hong Kong',\n",
       " 'Myanmar',\n",
       " 'Viet Nam',\n",
       " 'Malawi',\n",
       " 'Micronesia, Federated States of',\n",
       " 'Aruba',\n",
       " 'Virgin Islands, U.S.',\n",
       " 'Saint Helena, Ascension and Tristan da Cunha',\n",
       " 'Oman',\n",
       " 'Bonaire, Sint Eustatius and Saba',\n",
       " 'Senegal',\n",
       " 'Monaco',\n",
       " 'Russian Federation',\n",
       " 'Antarctica',\n",
       " 'American Samoa',\n",
       " 'Slovakia',\n",
       " 'Guinea-Bissau',\n",
       " 'Egypt',\n",
       " 'Madagascar',\n",
       " 'Guam',\n",
       " 'United Arab Emirates',\n",
       " 'Kiribati',\n",
       " 'Israel',\n",
       " 'Eritrea',\n",
       " 'Saint Kitts and Nevis',\n",
       " 'El Salvador',\n",
       " 'Lebanon',\n",
       " 'Poland',\n",
       " 'Syrian Arab Republic',\n",
       " 'Cambodia',\n",
       " 'Czech Republic',\n",
       " 'Tajikistan',\n",
       " 'India',\n",
       " 'Denmark',\n",
       " \"Côte d'Ivoire\",\n",
       " 'Kyrgyzstan',\n",
       " 'Peru',\n",
       " 'Italy',\n",
       " 'Bouvet Island',\n",
       " 'Palau',\n",
       " 'Lithuania',\n",
       " 'Colombia',\n",
       " 'Turkmenistan',\n",
       " 'Zambia',\n",
       " 'Libya',\n",
       " 'Greece',\n",
       " 'Honduras',\n",
       " 'Azerbaijan',\n",
       " 'Costa Rica',\n",
       " 'Uzbekistan',\n",
       " 'Hungary',\n",
       " 'Grenada',\n",
       " 'Bahrain',\n",
       " 'Finland']"
      ]
     },
     "execution_count": 82,
     "metadata": {},
     "output_type": "execute_result"
    }
   ],
   "source": [
    "countries = ['Argentina', 'Somalia', 'Tuvalu', 'Malta', 'Armenia', 'Christmas Island', 'Uganda',\n",
    "             'Central African Republic', 'Gambia', 'Morocco', 'Sint Maarten (Dutch part)', 'Tunisia', 'Aland Islands',\n",
    "             'Angola', 'Yemen', 'Niue', 'Brunei Darussalam', 'Sudan', 'Holy See (Vatican City State)', 'Malaysia',\n",
    "             'New Zealand', 'Palestinian Territory, Occupied', 'Iran, Islamic Republic of', 'Macedonia, Republic of',\n",
    "             'Montenegro', 'Macao', 'Belarus', 'Netherlands', 'Greenland', 'Thailand', 'French Southern Territories',\n",
    "             'Cyprus', \"Korea, Democratic People's Republic of\", 'Rwanda', 'Ethiopia', 'Saint Barthélemy', 'Botswana',\n",
    "             'Puerto Rico', 'Cape Verde', 'Nicaragua', 'Croatia', 'Guadeloupe', 'Réunion', 'Belize',\n",
    "             'Northern Mariana Islands', 'Indonesia', 'Serbia', 'British Indian Ocean Territory', 'Wallis and Futuna',\n",
    "             'Saint Martin (French part)', 'Nigeria', 'Spain', 'Guernsey', 'Guyana', 'Namibia',\n",
    "             'Venezuela, Bolivarian Republic of', 'Pitcairn', 'Suriname', 'Switzerland', 'Portugal', 'Saudi Arabia',\n",
    "             'Tanzania, United Republic of', 'Norfolk Island', 'Iceland', 'Ukraine', 'Estonia', 'Nauru', 'Comoros',\n",
    "             'Andorra', 'Turks and Caicos Islands', 'Guatemala', 'Cameroon', 'Chile', 'Bulgaria', 'Afghanistan',\n",
    "             'Sri Lanka', 'Romania', 'Tokelau', 'Montserrat', 'Congo', 'Congo, The Democratic Republic of the',\n",
    "             'Luxembourg', 'Bolivia, Plurinational State of', 'South Georgia and the South Sandwich Islands',\n",
    "             'Djibouti', 'Brazil', 'Burkina Faso', 'Curaçao', 'Heard Island and McDonald Islands', 'Cook Islands',\n",
    "             'Cocos (Keeling) Islands', 'China', 'Haiti', 'Swaziland', 'Mali', 'Burundi', 'Taiwan, Province of China',\n",
    "             'Ireland', 'Maldives', 'France', 'Martinique', 'Nepal', 'Saint Lucia', 'Uruguay', 'Seychelles', 'Algeria',\n",
    "             'Panama', 'Anguilla', 'Cuba', 'San Marino', 'Dominica', 'Germany', 'Iraq', 'Chad', 'Tonga', 'Qatar',\n",
    "             'Lesotho', 'Liberia', 'Bosnia and Herzegovina', 'Canada', 'Turkey', 'French Guiana', 'Jersey', 'Niger',\n",
    "             'Paraguay', 'Bangladesh', 'Barbados', 'Mauritius', 'United Kingdom', 'Bhutan', 'Isle of Man',\n",
    "             'Svalbard and Jan Mayen', 'Falkland Islands (Malvinas)', \"Lao People's Democratic Republic\",\n",
    "             'Saint Vincent and the Grenadines', 'Korea, Republic of', 'Dominican Republic', 'Philippines',\n",
    "             'Austria', 'Samoa', 'South Africa', 'Australia', 'Bahamas', 'Fiji', 'Mayotte', 'Albania',\n",
    "             'Sierra Leone', 'Gibraltar', 'Kazakhstan', 'French Polynesia', 'Jordan', 'Ecuador', 'Liechtenstein',\n",
    "             'Solomon Islands', 'Belgium', 'Gabon', 'Bermuda', 'Georgia', 'Saint Pierre and Miquelon', 'Ghana',\n",
    "             'Guinea', 'Singapore', 'Vanuatu', 'New Caledonia', 'Sao Tome and Principe', 'Mexico', 'Equatorial Guinea',\n",
    "             'Pakistan', 'Marshall Islands', 'Jamaica', 'Antigua and Barbuda', 'South Sudan', 'Japan', 'Slovenia',\n",
    "             'Moldova, Republic of', 'Virgin Islands, British', 'Latvia', 'Kenya', 'Trinidad and Tobago', 'Norway',\n",
    "             'Timor-Leste', 'Faroe Islands', 'Zimbabwe', 'Kuwait', 'Mozambique', 'Mauritania', 'Benin', 'Togo',\n",
    "             'Sweden', 'Cayman Islands', 'Mongolia', 'United States', 'United States Minor Outlying Islands',\n",
    "             'Papua New Guinea', 'Hong Kong', 'Myanmar', 'Viet Nam', 'Malawi', 'Micronesia, Federated States of',\n",
    "             'Aruba', 'Virgin Islands, U.S.', 'Saint Helena, Ascension and Tristan da Cunha', 'Oman',\n",
    "             'Bonaire, Sint Eustatius and Saba', 'Senegal', 'Monaco', 'Russian Federation', 'Antarctica',\n",
    "             'American Samoa', 'Slovakia', 'Guinea-Bissau', 'Egypt', 'Madagascar', 'Guam', 'United Arab Emirates',\n",
    "             'Kiribati', 'Israel', 'Eritrea', 'Saint Kitts and Nevis', 'El Salvador', 'Lebanon', 'Poland',\n",
    "             'Syrian Arab Republic', 'Cambodia', 'Czech Republic', 'Tajikistan', 'India', 'Denmark', \"Côte d'Ivoire\",\n",
    "             'Kyrgyzstan', 'Peru', 'Italy', 'Bouvet Island', 'Palau', 'Lithuania', 'Colombia', 'Turkmenistan', 'Zambia',\n",
    "             'Libya', 'Greece', 'Honduras', 'Azerbaijan', 'Costa Rica', 'Uzbekistan', 'Hungary',\n",
    "             'Grenada', 'Bahrain', 'Finland']\n",
    "\n",
    "countries"
   ]
  },
  {
   "cell_type": "code",
   "execution_count": 83,
   "metadata": {},
   "outputs": [
    {
     "name": "stdout",
     "output_type": "stream",
     "text": [
      "['Afghanistan', 'Aland Islands', 'Albania', 'Algeria', 'American Samoa', 'Andorra', 'Angola', 'Anguilla', 'Antarctica', 'Antigua and Barbuda', 'Argentina', 'Armenia', 'Aruba', 'Australia', 'Austria', 'Azerbaijan', 'Bahamas', 'Bahrain', 'Bangladesh', 'Barbados', 'Belarus', 'Belgium', 'Belize', 'Benin', 'Bermuda', 'Bhutan', 'Bolivia, Plurinational State of', 'Bonaire, Sint Eustatius and Saba', 'Bosnia and Herzegovina', 'Botswana', 'Bouvet Island', 'Brazil', 'British Indian Ocean Territory', 'Brunei Darussalam', 'Bulgaria', 'Burkina Faso', 'Burundi', 'Cambodia', 'Cameroon', 'Canada', 'Cape Verde', 'Cayman Islands', 'Central African Republic', 'Chad', 'Chile', 'China', 'Christmas Island', 'Cocos (Keeling) Islands', 'Colombia', 'Comoros', 'Congo', 'Congo, The Democratic Republic of the', 'Cook Islands', 'Costa Rica', 'Croatia', 'Cuba', 'Curaçao', 'Cyprus', 'Czech Republic', \"Côte d'Ivoire\", 'Denmark', 'Djibouti', 'Dominica', 'Dominican Republic', 'Ecuador', 'Egypt', 'El Salvador', 'Equatorial Guinea', 'Eritrea', 'Estonia', 'Ethiopia', 'Falkland Islands (Malvinas)', 'Faroe Islands', 'Fiji', 'Finland', 'France', 'French Guiana', 'French Polynesia', 'French Southern Territories', 'Gabon', 'Gambia', 'Georgia', 'Germany', 'Ghana', 'Gibraltar', 'Greece', 'Greenland', 'Grenada', 'Guadeloupe', 'Guam', 'Guatemala', 'Guernsey', 'Guinea', 'Guinea-Bissau', 'Guyana', 'Haiti', 'Heard Island and McDonald Islands', 'Holy See (Vatican City State)', 'Honduras', 'Hong Kong', 'Hungary', 'Iceland', 'India', 'Indonesia', 'Iran, Islamic Republic of', 'Iraq', 'Ireland', 'Isle of Man', 'Israel', 'Italy', 'Jamaica', 'Japan', 'Jersey', 'Jordan', 'Kazakhstan', 'Kenya', 'Kiribati', \"Korea, Democratic People's Republic of\", 'Korea, Republic of', 'Kuwait', 'Kyrgyzstan', \"Lao People's Democratic Republic\", 'Latvia', 'Lebanon', 'Lesotho', 'Liberia', 'Libya', 'Liechtenstein', 'Lithuania', 'Luxembourg', 'Macao', 'Macedonia, Republic of', 'Madagascar', 'Malawi', 'Malaysia', 'Maldives', 'Mali', 'Malta', 'Marshall Islands', 'Martinique', 'Mauritania', 'Mauritius', 'Mayotte', 'Mexico', 'Micronesia, Federated States of', 'Moldova, Republic of', 'Monaco', 'Mongolia', 'Montenegro', 'Montserrat', 'Morocco', 'Mozambique', 'Myanmar', 'Namibia', 'Nauru', 'Nepal', 'Netherlands', 'New Caledonia', 'New Zealand', 'Nicaragua', 'Niger', 'Nigeria', 'Niue', 'Norfolk Island', 'Northern Mariana Islands', 'Norway', 'Oman', 'Pakistan', 'Palau', 'Palestinian Territory, Occupied', 'Panama', 'Papua New Guinea', 'Paraguay', 'Peru', 'Philippines', 'Pitcairn', 'Poland', 'Portugal', 'Puerto Rico', 'Qatar', 'Romania', 'Russian Federation', 'Rwanda', 'Réunion', 'Saint Barthélemy', 'Saint Helena, Ascension and Tristan da Cunha', 'Saint Kitts and Nevis', 'Saint Lucia', 'Saint Martin (French part)', 'Saint Pierre and Miquelon', 'Saint Vincent and the Grenadines', 'Samoa', 'San Marino', 'Sao Tome and Principe', 'Saudi Arabia', 'Senegal', 'Serbia', 'Seychelles', 'Sierra Leone', 'Singapore', 'Sint Maarten (Dutch part)', 'Slovakia', 'Slovenia', 'Solomon Islands', 'Somalia', 'South Africa', 'South Georgia and the South Sandwich Islands', 'South Sudan', 'Spain', 'Sri Lanka', 'Sudan', 'Suriname', 'Svalbard and Jan Mayen', 'Swaziland', 'Sweden', 'Switzerland', 'Syrian Arab Republic', 'Taiwan, Province of China', 'Tajikistan', 'Tanzania, United Republic of', 'Thailand', 'Timor-Leste', 'Togo', 'Tokelau', 'Tonga', 'Trinidad and Tobago', 'Tunisia', 'Turkey', 'Turkmenistan', 'Turks and Caicos Islands', 'Tuvalu', 'Uganda', 'Ukraine', 'United Arab Emirates', 'United Kingdom', 'United States', 'United States Minor Outlying Islands', 'Uruguay', 'Uzbekistan', 'Vanuatu', 'Venezuela, Bolivarian Republic of', 'Viet Nam', 'Virgin Islands, British', 'Virgin Islands, U.S.', 'Wallis and Futuna', 'Yemen', 'Zambia', 'Zimbabwe']\n"
     ]
    }
   ],
   "source": [
    "sorted_countries = sorted(countries)\n",
    "print(sorted_countries)"
   ]
  },
  {
   "cell_type": "code",
   "execution_count": 87,
   "metadata": {},
   "outputs": [
    {
     "name": "stdout",
     "output_type": "stream",
     "text": [
      "MIN LEN: 4, max_len: 44\n"
     ]
    }
   ],
   "source": [
    "country_len_list = []\n",
    "for country in sorted_countries:\n",
    "    country_len_list.append( len(country))\n",
    "\n",
    "min_len = min(country_len_list)\n",
    "max_len = max(country_len_list)\n",
    "print(f\"MIN LEN: {min_len}, max_len: {max_len}\")"
   ]
  },
  {
   "cell_type": "code",
   "execution_count": 88,
   "metadata": {},
   "outputs": [
    {
     "data": {
      "text/plain": [
       "[11,\n",
       " 13,\n",
       " 7,\n",
       " 7,\n",
       " 14,\n",
       " 7,\n",
       " 6,\n",
       " 8,\n",
       " 10,\n",
       " 19,\n",
       " 9,\n",
       " 7,\n",
       " 5,\n",
       " 9,\n",
       " 7,\n",
       " 10,\n",
       " 7,\n",
       " 7,\n",
       " 10,\n",
       " 8,\n",
       " 7,\n",
       " 7,\n",
       " 6,\n",
       " 5,\n",
       " 7,\n",
       " 6,\n",
       " 31,\n",
       " 32,\n",
       " 22,\n",
       " 8,\n",
       " 13,\n",
       " 6,\n",
       " 30,\n",
       " 17,\n",
       " 8,\n",
       " 12,\n",
       " 7,\n",
       " 8,\n",
       " 8,\n",
       " 6,\n",
       " 10,\n",
       " 14,\n",
       " 24,\n",
       " 4,\n",
       " 5,\n",
       " 5,\n",
       " 16,\n",
       " 23,\n",
       " 8,\n",
       " 7,\n",
       " 5,\n",
       " 37,\n",
       " 12,\n",
       " 10,\n",
       " 7,\n",
       " 4,\n",
       " 7,\n",
       " 6,\n",
       " 14,\n",
       " 13,\n",
       " 7,\n",
       " 8,\n",
       " 8,\n",
       " 18,\n",
       " 7,\n",
       " 5,\n",
       " 11,\n",
       " 17,\n",
       " 7,\n",
       " 7,\n",
       " 8,\n",
       " 27,\n",
       " 13,\n",
       " 4,\n",
       " 7,\n",
       " 6,\n",
       " 13,\n",
       " 16,\n",
       " 27,\n",
       " 5,\n",
       " 6,\n",
       " 7,\n",
       " 7,\n",
       " 5,\n",
       " 9,\n",
       " 6,\n",
       " 9,\n",
       " 7,\n",
       " 10,\n",
       " 4,\n",
       " 9,\n",
       " 8,\n",
       " 6,\n",
       " 13,\n",
       " 6,\n",
       " 5,\n",
       " 33,\n",
       " 29,\n",
       " 8,\n",
       " 9,\n",
       " 7,\n",
       " 7,\n",
       " 5,\n",
       " 9,\n",
       " 25,\n",
       " 4,\n",
       " 7,\n",
       " 11,\n",
       " 6,\n",
       " 5,\n",
       " 7,\n",
       " 5,\n",
       " 6,\n",
       " 6,\n",
       " 10,\n",
       " 5,\n",
       " 8,\n",
       " 38,\n",
       " 18,\n",
       " 6,\n",
       " 10,\n",
       " 32,\n",
       " 6,\n",
       " 7,\n",
       " 7,\n",
       " 7,\n",
       " 5,\n",
       " 13,\n",
       " 9,\n",
       " 10,\n",
       " 5,\n",
       " 22,\n",
       " 10,\n",
       " 6,\n",
       " 8,\n",
       " 8,\n",
       " 4,\n",
       " 5,\n",
       " 16,\n",
       " 10,\n",
       " 10,\n",
       " 9,\n",
       " 7,\n",
       " 6,\n",
       " 31,\n",
       " 20,\n",
       " 6,\n",
       " 8,\n",
       " 10,\n",
       " 10,\n",
       " 7,\n",
       " 10,\n",
       " 7,\n",
       " 7,\n",
       " 5,\n",
       " 5,\n",
       " 11,\n",
       " 13,\n",
       " 11,\n",
       " 9,\n",
       " 5,\n",
       " 7,\n",
       " 4,\n",
       " 14,\n",
       " 24,\n",
       " 6,\n",
       " 4,\n",
       " 8,\n",
       " 5,\n",
       " 31,\n",
       " 6,\n",
       " 16,\n",
       " 8,\n",
       " 4,\n",
       " 11,\n",
       " 8,\n",
       " 6,\n",
       " 8,\n",
       " 11,\n",
       " 5,\n",
       " 7,\n",
       " 18,\n",
       " 6,\n",
       " 7,\n",
       " 16,\n",
       " 44,\n",
       " 21,\n",
       " 11,\n",
       " 26,\n",
       " 25,\n",
       " 32,\n",
       " 5,\n",
       " 10,\n",
       " 21,\n",
       " 12,\n",
       " 7,\n",
       " 6,\n",
       " 10,\n",
       " 12,\n",
       " 9,\n",
       " 25,\n",
       " 8,\n",
       " 8,\n",
       " 15,\n",
       " 7,\n",
       " 12,\n",
       " 44,\n",
       " 11,\n",
       " 5,\n",
       " 9,\n",
       " 5,\n",
       " 8,\n",
       " 22,\n",
       " 9,\n",
       " 6,\n",
       " 11,\n",
       " 20,\n",
       " 25,\n",
       " 10,\n",
       " 28,\n",
       " 8,\n",
       " 11,\n",
       " 4,\n",
       " 7,\n",
       " 5,\n",
       " 19,\n",
       " 7,\n",
       " 6,\n",
       " 12,\n",
       " 24,\n",
       " 6,\n",
       " 6,\n",
       " 7,\n",
       " 20,\n",
       " 14,\n",
       " 13,\n",
       " 36,\n",
       " 7,\n",
       " 10,\n",
       " 7,\n",
       " 33,\n",
       " 8,\n",
       " 23,\n",
       " 20,\n",
       " 17,\n",
       " 5,\n",
       " 6,\n",
       " 8]"
      ]
     },
     "execution_count": 88,
     "metadata": {},
     "output_type": "execute_result"
    }
   ],
   "source": [
    "country_len_list = [len(country) for country in sorted_countries]\n",
    "country_len_list"
   ]
  },
  {
   "cell_type": "code",
   "execution_count": 91,
   "metadata": {},
   "outputs": [
    {
     "name": "stdout",
     "output_type": "stream",
     "text": [
      "['Afghanistan', 'Aland Islands', 'Albania', 'Algeria', 'American Samoa', 'Andorra', 'Angola', 'Anguilla', 'Antarctica', 'Antigua and Barbuda', 'Argentina', 'Armenia', 'Aruba', 'Australia', 'Austria', 'Azerbaijan', 'Bahamas', 'Bahrain', 'Bangladesh', 'Barbados', 'Belarus', 'Belgium', 'Belize', 'Benin', 'Bermuda', 'Bhutan', 'Bolivia, Plurinational State of', 'Bonaire, Sint Eustatius and Saba', 'Bosnia and Herzegovina', 'Botswana', 'Bouvet Island', 'Brazil', 'British Indian Ocean Territory', 'Brunei Darussalam', 'Bulgaria', 'Burkina Faso', 'Burundi', 'Cambodia', 'Cameroon', 'Canada', 'Cape Verde', 'Cayman Islands', 'Central African Republic', 'Chad', 'Chile', 'China', 'Christmas Island', 'Cocos (Keeling) Islands', 'Colombia', 'Comoros', 'Congo', 'Congo, The Democratic Republic of the', 'Cook Islands', 'Costa Rica', 'Croatia', 'Cuba', 'Curaçao', 'Cyprus', 'Czech Republic', \"Côte d'Ivoire\", 'Denmark', 'Djibouti', 'Dominica', 'Dominican Republic', 'Ecuador', 'Egypt', 'El Salvador', 'Equatorial Guinea', 'Eritrea', 'Estonia', 'Ethiopia', 'Falkland Islands (Malvinas)', 'Faroe Islands', 'Fiji', 'Finland', 'France', 'French Guiana', 'French Polynesia', 'French Southern Territories', 'Gabon', 'Gambia', 'Georgia', 'Germany', 'Ghana', 'Gibraltar', 'Greece', 'Greenland', 'Grenada', 'Guadeloupe', 'Guam', 'Guatemala', 'Guernsey', 'Guinea', 'Guinea-Bissau', 'Guyana', 'Haiti', 'Heard Island and McDonald Islands', 'Holy See (Vatican City State)', 'Honduras', 'Hong Kong', 'Hungary', 'Iceland', 'India', 'Indonesia', 'Iran, Islamic Republic of', 'Iraq', 'Ireland', 'Isle of Man', 'Israel', 'Italy', 'Jamaica', 'Japan', 'Jersey', 'Jordan', 'Kazakhstan', 'Kenya', 'Kiribati', \"Korea, Democratic People's Republic of\", 'Korea, Republic of', 'Kuwait', 'Kyrgyzstan', \"Lao People's Democratic Republic\", 'Latvia', 'Lebanon', 'Lesotho', 'Liberia', 'Libya', 'Liechtenstein', 'Lithuania', 'Luxembourg', 'Macao', 'Macedonia, Republic of', 'Madagascar', 'Malawi', 'Malaysia', 'Maldives', 'Mali', 'Malta', 'Marshall Islands', 'Martinique', 'Mauritania', 'Mauritius', 'Mayotte', 'Mexico', 'Micronesia, Federated States of', 'Moldova, Republic of', 'Monaco', 'Mongolia', 'Montenegro', 'Montserrat', 'Morocco', 'Mozambique', 'Myanmar', 'Namibia', 'Nauru', 'Nepal', 'Netherlands', 'New Caledonia', 'New Zealand', 'Nicaragua', 'Niger', 'Nigeria', 'Niue', 'Norfolk Island', 'Northern Mariana Islands', 'Norway', 'Oman', 'Pakistan', 'Palau', 'Palestinian Territory, Occupied', 'Panama', 'Papua New Guinea', 'Paraguay', 'Peru', 'Philippines', 'Pitcairn', 'Poland', 'Portugal', 'Puerto Rico', 'Qatar', 'Romania', 'Russian Federation', 'Rwanda', 'Réunion', 'Saint Barthélemy', 'Saint Helena, Ascension and Tristan da Cunha', 'Saint Kitts and Nevis', 'Saint Lucia', 'Saint Martin (French part)', 'Saint Pierre and Miquelon', 'Saint Vincent and the Grenadines', 'Samoa', 'San Marino', 'Sao Tome and Principe', 'Saudi Arabia', 'Senegal', 'Serbia', 'Seychelles', 'Sierra Leone', 'Singapore', 'Sint Maarten (Dutch part)', 'Slovakia', 'Slovenia', 'Solomon Islands', 'Somalia', 'South Africa', 'South Georgia and the South Sandwich Islands', 'South Sudan', 'Spain', 'Sri Lanka', 'Sudan', 'Suriname', 'Svalbard and Jan Mayen', 'Swaziland', 'Sweden', 'Switzerland', 'Syrian Arab Republic', 'Taiwan, Province of China', 'Tajikistan', 'Tanzania, United Republic of', 'Thailand', 'Timor-Leste', 'Togo', 'Tokelau', 'Tonga', 'Trinidad and Tobago', 'Tunisia', 'Turkey', 'Turkmenistan', 'Turks and Caicos Islands', 'Tuvalu', 'Uganda', 'Ukraine', 'United Arab Emirates', 'United Kingdom', 'United States', 'United States Minor Outlying Islands', 'Uruguay', 'Uzbekistan', 'Vanuatu', 'Venezuela, Bolivarian Republic of', 'Viet Nam', 'Virgin Islands, British', 'Virgin Islands, U.S.', 'Wallis and Futuna', 'Yemen', 'Zambia', 'Zimbabwe']\n",
      "[11, 13, 7, 7, 14, 7, 6, 8, 10, 19, 9, 7, 5, 9, 7, 10, 7, 7, 10, 8, 7, 7, 6, 5, 7, 6, 31, 32, 22, 8, 13, 6, 30, 17, 8, 12, 7, 8, 8, 6, 10, 14, 24, 4, 5, 5, 16, 23, 8, 7, 5, 37, 12, 10, 7, 4, 7, 6, 14, 13, 7, 8, 8, 18, 7, 5, 11, 17, 7, 7, 8, 27, 13, 4, 7, 6, 13, 16, 27, 5, 6, 7, 7, 5, 9, 6, 9, 7, 10, 4, 9, 8, 6, 13, 6, 5, 33, 29, 8, 9, 7, 7, 5, 9, 25, 4, 7, 11, 6, 5, 7, 5, 6, 6, 10, 5, 8, 38, 18, 6, 10, 32, 6, 7, 7, 7, 5, 13, 9, 10, 5, 22, 10, 6, 8, 8, 4, 5, 16, 10, 10, 9, 7, 6, 31, 20, 6, 8, 10, 10, 7, 10, 7, 7, 5, 5, 11, 13, 11, 9, 5, 7, 4, 14, 24, 6, 4, 8, 5, 31, 6, 16, 8, 4, 11, 8, 6, 8, 11, 5, 7, 18, 6, 7, 16, 44, 21, 11, 26, 25, 32, 5, 10, 21, 12, 7, 6, 10, 12, 9, 25, 8, 8, 15, 7, 12, 44, 11, 5, 9, 5, 8, 22, 9, 6, 11, 20, 25, 10, 28, 8, 11, 4, 7, 5, 19, 7, 6, 12, 24, 6, 6, 7, 20, 14, 13, 36, 7, 10, 7, 33, 8, 23, 20, 17, 5, 6, 8]\n"
     ]
    }
   ],
   "source": [
    "# sort in place , use sort() method , soted alphbetically in asceding order\n",
    "countries.sort()\n",
    "print(countries)\n",
    "\n",
    "# Get the leng of all the lsit \n",
    "lengths = [len(c) for c in countries ]\n",
    "print(lengths)"
   ]
  },
  {
   "cell_type": "code",
   "execution_count": 98,
   "metadata": {},
   "outputs": [
    {
     "name": "stdout",
     "output_type": "stream",
     "text": [
      "MAX : 44\n",
      "MIN : 4\n"
     ]
    }
   ],
   "source": [
    "max_length = max(lengths)\n",
    "print(f\"MAX : {max_length}\")\n",
    "\n",
    "min_length = min(lengths)\n",
    "print(f\"MIN : {min_length}\")"
   ]
  },
  {
   "cell_type": "code",
   "execution_count": 99,
   "metadata": {},
   "outputs": [
    {
     "data": {
      "text/plain": [
       "['Saint Helena, Ascension and Tristan da Cunha',\n",
       " 'South Georgia and the South Sandwich Islands']"
      ]
     },
     "execution_count": 99,
     "metadata": {},
     "output_type": "execute_result"
    }
   ],
   "source": [
    "longest_name = [c for c in countries if len(c) == max_length]\n",
    "print(f'Countries with the longest names: {longest_names}')\n",
    "longest_name"
   ]
  },
  {
   "cell_type": "code",
   "execution_count": 100,
   "metadata": {},
   "outputs": [
    {
     "data": {
      "text/plain": [
       "['Chad',\n",
       " 'Cuba',\n",
       " 'Fiji',\n",
       " 'Guam',\n",
       " 'Iraq',\n",
       " 'Mali',\n",
       " 'Niue',\n",
       " 'Oman',\n",
       " 'Peru',\n",
       " 'Togo']"
      ]
     },
     "execution_count": 100,
     "metadata": {},
     "output_type": "execute_result"
    }
   ],
   "source": [
    "shortest_name = [c for c in countries if len(c) == min_length]\n",
    "print(f'Countries with the longest names: {shortest_name}')"
   ]
  },
  {
   "cell_type": "code",
   "execution_count": 104,
   "metadata": {},
   "outputs": [
    {
     "data": {
      "text/plain": [
       "['Saint Helena, Ascension and Tristan da Cunha',\n",
       " 'South Georgia and the South Sandwich Islands']"
      ]
     },
     "execution_count": 104,
     "metadata": {},
     "output_type": "execute_result"
    }
   ],
   "source": [
    "longest_names = [c for c in countries if len(c) == max([len(c) for c in countries])]\n",
    "longest_names"
   ]
  },
  {
   "cell_type": "code",
   "execution_count": 105,
   "metadata": {},
   "outputs": [
    {
     "data": {
      "text/plain": [
       "['Chad',\n",
       " 'Cuba',\n",
       " 'Fiji',\n",
       " 'Guam',\n",
       " 'Iraq',\n",
       " 'Mali',\n",
       " 'Niue',\n",
       " 'Oman',\n",
       " 'Peru',\n",
       " 'Togo']"
      ]
     },
     "execution_count": 105,
     "metadata": {},
     "output_type": "execute_result"
    }
   ],
   "source": [
    "shortest_names = [c for c in countries if len(c) == min([len(c) for c in countries])]\n",
    "shortest_names"
   ]
  },
  {
   "cell_type": "code",
   "execution_count": 1,
   "metadata": {},
   "outputs": [
    {
     "name": "stdout",
     "output_type": "stream",
     "text": [
      "[19.308, 16.09, 41.834, 128.72]\n"
     ]
    }
   ],
   "source": [
    "miles = [12, 10, 26, 80]\n",
    "# 1 mile = 1.609 km\n",
    "km = [m * 1.609 for m in miles]\n",
    "print(km)   # => [19.308, 16.09, 41.834, 128.72]"
   ]
  },
  {
   "cell_type": "code",
   "execution_count": null,
   "metadata": {},
   "outputs": [],
   "source": []
  }
 ],
 "metadata": {
  "kernelspec": {
   "display_name": "de-venv3.9",
   "language": "python",
   "name": "python3"
  },
  "language_info": {
   "codemirror_mode": {
    "name": "ipython",
    "version": 3
   },
   "file_extension": ".py",
   "mimetype": "text/x-python",
   "name": "python",
   "nbconvert_exporter": "python",
   "pygments_lexer": "ipython3",
   "version": "3.9.12"
  },
  "orig_nbformat": 4
 },
 "nbformat": 4,
 "nbformat_minor": 2
}
