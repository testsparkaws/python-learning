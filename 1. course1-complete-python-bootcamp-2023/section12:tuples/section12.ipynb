{
 "cells": [
  {
   "cell_type": "code",
   "execution_count": 2,
   "metadata": {},
   "outputs": [
    {
     "data": {
      "text/plain": [
       "(1, 3.4, 'Python', True)"
      ]
     },
     "execution_count": 2,
     "metadata": {},
     "output_type": "execute_result"
    }
   ],
   "source": [
    "# Section 12: Tuples in Python\n",
    "# Intro to TUPLES\n",
    "\n",
    "t3 = (1,3.4, 'Python', True)\n",
    "t3"
   ]
  },
  {
   "cell_type": "code",
   "execution_count": 3,
   "metadata": {},
   "outputs": [
    {
     "data": {
      "text/plain": [
       "int"
      ]
     },
     "execution_count": 3,
     "metadata": {},
     "output_type": "execute_result"
    }
   ],
   "source": [
    "t4= (10)\n",
    "type(t4)"
   ]
  },
  {
   "cell_type": "code",
   "execution_count": 4,
   "metadata": {},
   "outputs": [
    {
     "data": {
      "text/plain": [
       "tuple"
      ]
     },
     "execution_count": 4,
     "metadata": {},
     "output_type": "execute_result"
    }
   ],
   "source": [
    "t5 = 10,\n",
    "type(t5)"
   ]
  },
  {
   "cell_type": "code",
   "execution_count": 5,
   "metadata": {},
   "outputs": [
    {
     "data": {
      "text/plain": [
       "tuple"
      ]
     },
     "execution_count": 5,
     "metadata": {},
     "output_type": "execute_result"
    }
   ],
   "source": [
    "t5 = 10,6.9,True,'abc'\n",
    "type(t5)"
   ]
  },
  {
   "cell_type": "code",
   "execution_count": 7,
   "metadata": {},
   "outputs": [
    {
     "data": {
      "text/plain": [
       "(1.4, 10, 'y', 'z')"
      ]
     },
     "execution_count": 7,
     "metadata": {},
     "output_type": "execute_result"
    }
   ],
   "source": [
    "# TUPLE Operations\n",
    "my_tuple = (1.4, 10, )\n",
    "t1 = my_tuple + tuple('yz')\n",
    "t1"
   ]
  },
  {
   "cell_type": "code",
   "execution_count": 9,
   "metadata": {},
   "outputs": [
    {
     "data": {
      "text/plain": [
       "(1, 2, 3, 'a', 1, 2, 3, 'a', 1, 2, 3, 'a')"
      ]
     },
     "execution_count": 9,
     "metadata": {},
     "output_type": "execute_result"
    }
   ],
   "source": [
    "t2 =(1,2,3,'a') * 3\n",
    "t2"
   ]
  },
  {
   "cell_type": "code",
   "execution_count": 10,
   "metadata": {},
   "outputs": [
    {
     "data": {
      "text/plain": [
       "(10,)"
      ]
     },
     "execution_count": 10,
     "metadata": {},
     "output_type": "execute_result"
    }
   ],
   "source": [
    "# REvers order \n",
    "my_tuple[-1:0:-1]"
   ]
  },
  {
   "cell_type": "code",
   "execution_count": 11,
   "metadata": {},
   "outputs": [],
   "source": [
    "# Tuples Methods \n",
    "# index() and count() "
   ]
  },
  {
   "cell_type": "code",
   "execution_count": 12,
   "metadata": {},
   "outputs": [
    {
     "name": "stdout",
     "output_type": "stream",
     "text": [
      "x is at index 1\n"
     ]
    }
   ],
   "source": [
    "x = 10\n",
    "if x in t1:\n",
    "    i = t1.index(x)\n",
    "    print(f\"x is at index {i}\")\n",
    "else:\n",
    "    print(\"Not there in dienx\")"
   ]
  },
  {
   "cell_type": "code",
   "execution_count": 17,
   "metadata": {},
   "outputs": [
    {
     "name": "stdout",
     "output_type": "stream",
     "text": [
      "3\n",
      "60\n",
      "10\n",
      "30\n"
     ]
    }
   ],
   "source": [
    "# len(), sum(), min(), max(), sorted() built in methods can be used with tuple\n",
    "t1 = (10,20,30)\n",
    "print(len(t1))\n",
    "print(sum(t1))\n",
    "print(min(t1))\n",
    "print(max(t1))"
   ]
  },
  {
   "cell_type": "code",
   "execution_count": 19,
   "metadata": {},
   "outputs": [
    {
     "data": {
      "text/plain": [
       "'\\n # 1. Tuples are faster and more efficient than lists.\\n - constant folding\\n\\n # 2. Tuples are safer than lists.\\n\\n # 3. Tuples can be used as keys in dictionaries\\n\\n # 4. Storage efficiecy\\n\\n'"
      ]
     },
     "execution_count": 19,
     "metadata": {},
     "output_type": "execute_result"
    }
   ],
   "source": [
    "# Lists vs Tuples\n",
    "'''\n",
    " # 1. Tuples are faster and more efficient than lists.\n",
    " - constant folding\n",
    "\n",
    " # 2. Tuples are safer than lists.\n",
    "\n",
    " # 3. Tuples can be used as keys in dictionaries\n",
    "\n",
    " # 4. Storage efficiecy\n",
    "\n",
    "'''"
   ]
  },
  {
   "cell_type": "code",
   "execution_count": 20,
   "metadata": {},
   "outputs": [],
   "source": [
    "l1 = [1,2,3,4,5,6]\n",
    "t1= (1,2,3,4,5,6)"
   ]
  },
  {
   "cell_type": "code",
   "execution_count": 23,
   "metadata": {},
   "outputs": [
    {
     "name": "stdout",
     "output_type": "stream",
     "text": [
      "List memory size : 152\n",
      "TUple memory size : 88\n"
     ]
    }
   ],
   "source": [
    "import sys \n",
    "\n",
    "print(f'List memory size : {sys.getsizeof(l1)}')  # 152 bytes of memory\n",
    "print(f'TUple memory size : {sys.getsizeof(t1)}') # 88\n"
   ]
  },
  {
   "cell_type": "code",
   "execution_count": 25,
   "metadata": {},
   "outputs": [
    {
     "data": {
      "text/plain": [
       "72.72727272727272"
      ]
     },
     "execution_count": 25,
     "metadata": {},
     "output_type": "execute_result"
    }
   ],
   "source": [
    "152 / 88 * 100 - 100\n",
    "# 72 percent more memory "
   ]
  },
  {
   "cell_type": "code",
   "execution_count": 27,
   "metadata": {},
   "outputs": [
    {
     "data": {
      "text/plain": [
       "('I', 'o', '-', 't', 'n')"
      ]
     },
     "execution_count": 27,
     "metadata": {},
     "output_type": "execute_result"
    }
   ],
   "source": [
    "my_tuple = tuple('I-love-Python')\n",
    "my_tuple[::3]"
   ]
  },
  {
   "cell_type": "code",
   "execution_count": 28,
   "metadata": {},
   "outputs": [
    {
     "name": "stdout",
     "output_type": "stream",
     "text": [
      "y\n"
     ]
    }
   ],
   "source": [
    "my_tuple = tuple('Python')\n",
    "print(my_tuple[1])"
   ]
  },
  {
   "cell_type": "code",
   "execution_count": 29,
   "metadata": {},
   "outputs": [
    {
     "name": "stdout",
     "output_type": "stream",
     "text": [
      "(1, 3)\n"
     ]
    }
   ],
   "source": [
    "t1 = (1, 1.1, '1', (1, 3)) * 2\n",
    "print(t1[-1])\n"
   ]
  },
  {
   "cell_type": "code",
   "execution_count": 30,
   "metadata": {},
   "outputs": [],
   "source": [
    "languages = ('Python', 'Java', 'Go', 'C++', 'PHP', 'Scala', 'Solidity')\n",
    "\n",
    "# Using a negative index extract the last element of the tuple in a variable called x\n",
    "x = languages[-1]\n",
    "\n",
    "# Return a new tuple called y using slicing and a step\n",
    "# y should be ('Python', 'Scala')\n",
    "y = languages[::5]\n"
   ]
  },
  {
   "cell_type": "code",
   "execution_count": null,
   "metadata": {},
   "outputs": [],
   "source": []
  }
 ],
 "metadata": {
  "kernelspec": {
   "display_name": "de-venv3.9",
   "language": "python",
   "name": "python3"
  },
  "language_info": {
   "codemirror_mode": {
    "name": "ipython",
    "version": 3
   },
   "file_extension": ".py",
   "mimetype": "text/x-python",
   "name": "python",
   "nbconvert_exporter": "python",
   "pygments_lexer": "ipython3",
   "version": "3.9.12"
  },
  "orig_nbformat": 4
 },
 "nbformat": 4,
 "nbformat_minor": 2
}
