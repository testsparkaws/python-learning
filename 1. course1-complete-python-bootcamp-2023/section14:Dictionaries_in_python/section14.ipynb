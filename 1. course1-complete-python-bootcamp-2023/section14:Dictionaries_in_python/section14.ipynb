{
 "cells": [
  {
   "cell_type": "code",
   "execution_count": 1,
   "metadata": {},
   "outputs": [
    {
     "name": "stdout",
     "output_type": "stream",
     "text": [
      "<class 'dict'>\n"
     ]
    }
   ],
   "source": [
    "# Intro to Dictionaries\n",
    "person = {\n",
    "     'name': 'JOhb',\n",
    "     'age': 30\n",
    "}\n",
    "print(type(person))"
   ]
  },
  {
   "cell_type": "code",
   "execution_count": 21,
   "metadata": {},
   "outputs": [
    {
     "name": "stdout",
     "output_type": "stream",
     "text": [
      "3\n",
      "{'name': 'Dan', 'age': 30, (1, 2, 3): 100}\n",
      "{'cities': ['Hamburg', 'Berlin', 'Munich'], 'info': {'population': 83000000, 'people': ['Einstein', 'Bach', 'Gauss']}}\n",
      "['Hamburg', 'Berlin', 'Munich']\n",
      "Berlin\n",
      "{'population': 83000000, 'people': ['Einstein', 'Bach', 'Gauss']}\n",
      "['Einstein', 'Bach', 'Gauss']\n",
      "Gauss\n",
      "Einstein\n",
      "Bach\n"
     ]
    }
   ],
   "source": [
    "# Working with Ditionaries\n",
    "person = {\n",
    "    'name': 'John',\n",
    "    'age': 30,\n",
    "    (1,2,3): 100\n",
    "}\n",
    "print(len(person))\n",
    "person['name']='Dan'\n",
    "print(person)\n",
    "\n",
    "germany = {\n",
    "    'cities': ['Hamburg', 'Berlin', 'Munich'],\n",
    "    'info': {'population': 83_000_000, 'people': ['Einstein', 'Bach','Gauss']}\n",
    "}\n",
    "print(germany)\n",
    "print(germany['cities'])\n",
    "print(germany['cities'][1])\n",
    "print(germany['info'])\n",
    "print(germany['info']['people'])\n",
    "print(germany['info']['people'][-1])\n",
    "print(germany['info']['people'][0])\n",
    "print(germany['info']['people'][1])\n",
    "\n"
   ]
  },
  {
   "cell_type": "code",
   "execution_count": 30,
   "metadata": {},
   "outputs": [
    {
     "name": "stdout",
     "output_type": "stream",
     "text": [
      "[{'cities': ['Hamburg', 'Berlin', 'Munich'], 'info': {'population': 83000000, 'person': ['Einstein', 'Bach', 'Gauss']}}, {'cities': ['Paris', 'Lyon', 'Boredeaux'], 'info': {'population': 67000000, 'person': ['MOnet', 'Marie Curie', 'Napoleon']}}]\n",
      "['Hamburg', 'Berlin', 'Munich']\n",
      "['MOnet', 'Marie Curie', 'Napoleon']\n",
      "Marie Curie\n"
     ]
    }
   ],
   "source": [
    "countries = [\n",
    "    {\n",
    "        'cities': ['Hamburg', 'Berlin', 'Munich'],\n",
    "        'info': {'population': 83_000_000, 'person': ['Einstein', 'Bach','Gauss']}\n",
    "    },\n",
    "    {\n",
    "        'cities': ['Paris', 'Lyon', 'Boredeaux'],\n",
    "        'info': {'population': 67_000_000, 'person': ['MOnet', 'Marie Curie','Napoleon']}\n",
    "    } \n",
    "]\n",
    "print(countries)\n",
    "print(countries[0]['cities'])\n",
    "print(countries[1]['info']['person'])\n",
    "print(countries[1]['info']['person'][1])"
   ]
  },
  {
   "cell_type": "code",
   "execution_count": 32,
   "metadata": {},
   "outputs": [
    {
     "name": "stdout",
     "output_type": "stream",
     "text": [
      "{'name': 'Peter', 'age': 30, 'location': 'USA'}\n"
     ]
    }
   ],
   "source": [
    "# Dictionary Operations and Methods - Part 1\n",
    "# \n",
    "person = {'name': 'John', 'age': 30, 'location': 'USA'}\n",
    "friend = person \n",
    "person['name'] = 'Peter'\n",
    "print(friend)"
   ]
  },
  {
   "cell_type": "code",
   "execution_count": 33,
   "metadata": {},
   "outputs": [
    {
     "name": "stdout",
     "output_type": "stream",
     "text": [
      "{'name': 'Peter', 'age': 30, 'location': 'USA'} {'name': 'Peter', 'age': 30, 'location': 'Europe'}\n"
     ]
    }
   ],
   "source": [
    "neighbour = person.copy()\n",
    "person['location'] = 'Europe'\n",
    "print(neighbour, person)"
   ]
  },
  {
   "cell_type": "code",
   "execution_count": 36,
   "metadata": {},
   "outputs": [
    {
     "name": "stdout",
     "output_type": "stream",
     "text": [
      "{'ro': 'Romania', 'us': 'United states of America', 'de': 'Germany', 'hu': 'Hungary', 'fr': 'France'}\n"
     ]
    }
   ],
   "source": [
    "countries = {'ro': 'Romania', 'us': 'United states of America', 'de': 'Germany'}\n",
    "countries.update({'hu':'Hungary', 'fr': 'France'})\n",
    "print(countries)"
   ]
  },
  {
   "cell_type": "code",
   "execution_count": 39,
   "metadata": {},
   "outputs": [
    {
     "name": "stdout",
     "output_type": "stream",
     "text": [
      "{}\n"
     ]
    }
   ],
   "source": [
    "countries.clear()\n",
    "print(countries)"
   ]
  },
  {
   "cell_type": "code",
   "execution_count": 52,
   "metadata": {},
   "outputs": [
    {
     "name": "stdout",
     "output_type": "stream",
     "text": [
      "dict_keys(['name', 'age', 'location']) <class 'dict_keys'>\n",
      "['name', 'age', 'location'] <class 'list'>\n",
      "True\n",
      "True\n",
      "False\n",
      "{'name': 'Peter', 'age': 30, 'location': 'Europe'}\n",
      "True\n",
      "True\n",
      "dict_items([('name', 'Peter'), ('age', 30), ('location', 'Europe')])\n"
     ]
    }
   ],
   "source": [
    "# dict.keys()\n",
    "person\n",
    "\n",
    "k = person.keys()\n",
    "print(k, type(k))\n",
    "\n",
    "my_keys = list(k)\n",
    "print(my_keys, type(my_keys))\n",
    "\n",
    "# \n",
    "print('name' in person) # or \n",
    "print('name' in person.keys())\n",
    "\n",
    "print('Berlin' in person.values())\n",
    "print(person)\n",
    "print('Europe' in person.values())\n",
    "print(('age',30) in person.items())\n",
    "print(person.items())"
   ]
  },
  {
   "cell_type": "code",
   "execution_count": 55,
   "metadata": {},
   "outputs": [
    {
     "name": "stdout",
     "output_type": "stream",
     "text": [
      "{20}\n",
      "{10, 20, 30}\n"
     ]
    }
   ],
   "source": [
    "# Dictionary Operations and Methods - Part 2\n",
    "d1 = {10: 'a', 20: 'b'}\n",
    "d2 = {20: 'c', 30: 'c'}\n",
    "\n",
    "k1= d1.keys()\n",
    "k2 = d2.keys()\n",
    "\n",
    "print(k1 & k2 ) # intersection, cant use methods with dictionary keys\n",
    "print(k1 | k2 ) # union\n"
   ]
  },
  {
   "cell_type": "code",
   "execution_count": 38,
   "metadata": {},
   "outputs": [],
   "source": [
    "# Project: Amercian Phonetic Alhabet"
   ]
  },
  {
   "cell_type": "code",
   "execution_count": 4,
   "metadata": {},
   "outputs": [],
   "source": [
    "# Dictionary and Set Comphrehensions"
   ]
  },
  {
   "cell_type": "code",
   "execution_count": 4,
   "metadata": {},
   "outputs": [],
   "source": [
    "#\n",
    "valid_dict = {(1,2,3):[1,2,3], 3: 'abc', 'abc':{14,'a'}, 4.5:True}"
   ]
  },
  {
   "cell_type": "code",
   "execution_count": 5,
   "metadata": {},
   "outputs": [
    {
     "name": "stdout",
     "output_type": "stream",
     "text": [
      "2\n"
     ]
    }
   ],
   "source": [
    "product = {'id':1234, 'name':'Laptop'}\n",
    "x = product.pop('x', 'N/A')\n",
    "print(len(product))"
   ]
  },
  {
   "cell_type": "code",
   "execution_count": 6,
   "metadata": {},
   "outputs": [
    {
     "name": "stdout",
     "output_type": "stream",
     "text": [
      "{'id': 100, 'name': 'Laptop', 'seller': 'Amazon'}\n"
     ]
    }
   ],
   "source": [
    "product = {'id':1234, 'name':'Laptop'}\n",
    "product['seller'] = 'Amazon'\n",
    "product['id'] = 100\n",
    "print(product)"
   ]
  },
  {
   "cell_type": "code",
   "execution_count": 7,
   "metadata": {},
   "outputs": [
    {
     "name": "stdout",
     "output_type": "stream",
     "text": [
      "X\n"
     ]
    }
   ],
   "source": [
    "d1 = {'a': [1, 2, {10:'X', 20:'Y'}]}\n",
    "print(d1['a'][2][10])"
   ]
  },
  {
   "cell_type": "code",
   "execution_count": 9,
   "metadata": {},
   "outputs": [
    {
     "data": {
      "text/plain": [
       "'Z'"
      ]
     },
     "execution_count": 9,
     "metadata": {},
     "output_type": "execute_result"
    }
   ],
   "source": [
    "#Considering the following Python dictionary, how can you extract the value Z?\n",
    "\n",
    "d1 = {'a': [1, 2, {10:'X', 20:['Y', 'Z']}]}\n",
    "\n",
    "d1['a'][2][20][1]"
   ]
  },
  {
   "cell_type": "code",
   "execution_count": 10,
   "metadata": {},
   "outputs": [
    {
     "name": "stdout",
     "output_type": "stream",
     "text": [
      "{'a': 1}\n"
     ]
    }
   ],
   "source": [
    "d1 = {'a': 1, 'b': 2}\n",
    "d1.get('a')\n",
    "d1.pop('b')\n",
    "print(d1)"
   ]
  },
  {
   "cell_type": "code",
   "execution_count": 11,
   "metadata": {},
   "outputs": [
    {
     "name": "stdout",
     "output_type": "stream",
     "text": [
      "{'a': 1}\n"
     ]
    }
   ],
   "source": [
    "d1 = {'a': 1, 'b': 2}\n",
    "d1.get('a')\n",
    "d1.pop('b')\n",
    "print(d1)"
   ]
  },
  {
   "cell_type": "code",
   "execution_count": 12,
   "metadata": {},
   "outputs": [],
   "source": [
    "#Create a dictionary called user with 4 key: value pairs\n",
    "user = {\n",
    "    'name': 'test',\n",
    "    'age': 30,\n",
    "    'location': 'india',\n",
    "    'email': 'test@gmail.com'}\n",
    "    "
   ]
  },
  {
   "cell_type": "code",
   "execution_count": 13,
   "metadata": {},
   "outputs": [],
   "source": [
    "#Create a dictionary called user with 4 key: value pairs\n",
    "user = dict({\n",
    "    'name': 'test',\n",
    "    'age': 30,\n",
    "    'location': 'india',\n",
    "    'email': 'test@gmail.com'})\n",
    "    "
   ]
  },
  {
   "cell_type": "code",
   "execution_count": 56,
   "metadata": {},
   "outputs": [
    {
     "name": "stdout",
     "output_type": "stream",
     "text": [
      "2  4\n",
      "6  44\n"
     ]
    }
   ],
   "source": [
    "dict1 = {1:2, 3:'4'}\n",
    "for k, v in dict1.items():\n",
    "    print(f'{k*2}  {v*2}')"
   ]
  },
  {
   "cell_type": "code",
   "execution_count": 71,
   "metadata": {},
   "outputs": [],
   "source": [
    "#Given the dictionary below, what is the result of max(my_dict.values()) ?\n",
    "\n",
    "my_dict = {1:2, 3:'4'}\n",
    "# TYpeError"
   ]
  },
  {
   "cell_type": "code",
   "execution_count": 59,
   "metadata": {},
   "outputs": [
    {
     "name": "stdout",
     "output_type": "stream",
     "text": [
      "[1234, 'Laptop', 'Amazon']\n"
     ]
    }
   ],
   "source": [
    "#Considering the following Python code, what will be printed?\n",
    "\n",
    "product = {'id':1234, 'name':'Laptop'}\n",
    "v = product.values()\n",
    "product['seler'] = 'Amazon'\n",
    "print(list(v))\n"
   ]
  },
  {
   "cell_type": "code",
   "execution_count": 70,
   "metadata": {},
   "outputs": [
    {
     "name": "stdout",
     "output_type": "stream",
     "text": [
      "['a', 'b', 'c']\n"
     ]
    }
   ],
   "source": [
    "d1 = {'a': 10, 'b': 20}\n",
    "c = d1.keys()\n",
    "d1.update({'c': 30})\n",
    "print(list(c))"
   ]
  },
  {
   "cell_type": "code",
   "execution_count": 62,
   "metadata": {},
   "outputs": [],
   "source": [
    "# How can you add the pair 1:'a' to a dictionary called d1?\n",
    "d1.update({1:'a'})"
   ]
  },
  {
   "cell_type": "code",
   "execution_count": 63,
   "metadata": {},
   "outputs": [
    {
     "name": "stdout",
     "output_type": "stream",
     "text": [
      "{1, 2, 3, 4, 5}\n"
     ]
    }
   ],
   "source": [
    "d1 = {1:10, 2:20, 3:30}\n",
    "d2 = {4:40, 5:50}\n",
    "print(d1.keys() | d2.keys())"
   ]
  },
  {
   "cell_type": "code",
   "execution_count": 64,
   "metadata": {},
   "outputs": [
    {
     "name": "stdout",
     "output_type": "stream",
     "text": [
      "{1, 2, 3, 4, 5}\n"
     ]
    }
   ],
   "source": [
    "d1 = {1:10, 2:20, 3:30}\n",
    "d2 = {4:40, 5:50}\n",
    "print(d1.keys() | d2.keys())"
   ]
  },
  {
   "cell_type": "code",
   "execution_count": 67,
   "metadata": {},
   "outputs": [
    {
     "name": "stdout",
     "output_type": "stream",
     "text": [
      "True\n",
      "True\n",
      "True\n"
     ]
    }
   ],
   "source": [
    "my_friend = {'name': 'Dan', 'city': 'Bucharest', 'email': 'dan@dan.ro'}\n",
    "\n",
    "print('name' in my_friend)\n",
    "print('city' in my_friend.keys())\n",
    "print(('city','Bucharest') in my_friend.items())\n"
   ]
  },
  {
   "cell_type": "code",
   "execution_count": 69,
   "metadata": {},
   "outputs": [],
   "source": [
    "#Considering the following Python dict, how can you remove the first key:value pair of the dictionary?\n",
    "\n",
    "my_friend = {'name': 'Dan', 'city': 'Bucharest', 'email': 'dan@dan.ro'}\n",
    "\n",
    "# my_friends.remove('name')\n",
    "del my_friend['name']"
   ]
  },
  {
   "cell_type": "code",
   "execution_count": 72,
   "metadata": {},
   "outputs": [
    {
     "name": "stdout",
     "output_type": "stream",
     "text": [
      "11293.32\n",
      "11293.32\n"
     ]
    }
   ],
   "source": [
    "#g Exercise Solution\n",
    "money = {\n",
    "    'bank': 8564.61,\n",
    "    'paypal': 1998.21,\n",
    "    'cash': 480,\n",
    "    'payoneer': 250.5\n",
    "}\n",
    " \n",
    " \n",
    "# First solution using a for loop\n",
    "total_amount = 0\n",
    "for value in money.values():\n",
    "    total_amount += value\n",
    " \n",
    "print(total_amount)\n",
    " \n",
    " \n",
    "# Second solution using the sum() function and the dictionary.values() method\n",
    "total_amount = sum(money.values())\n",
    "print(total_amount)"
   ]
  },
  {
   "cell_type": "code",
   "execution_count": 84,
   "metadata": {},
   "outputs": [
    {
     "name": "stdout",
     "output_type": "stream",
     "text": [
      "A Alfa\n",
      "B Bravo\n",
      "C Charlie\n",
      "D Delta\n",
      "E Echo\n",
      "F Foxtrot\n",
      "G Golf\n",
      "H Hotel\n",
      "I India\n",
      "J Juliet\n",
      "K Kilo\n",
      "L Lima\n",
      "M Mike\n",
      "N November\n",
      "O Oscar\n",
      "P Papa\n",
      "Q Quebec\n",
      "R Romeo\n",
      "S Sierra\n",
      "T Tango\n",
      "U Uniform\n",
      "V Victor\n",
      "W Whiskey\n",
      "X X-Ray\n",
      "Y Yankee\n",
      "Z Zulu\n",
      "0 Zero\n",
      "1 One\n",
      "2 Two\n",
      "3 Tree\n",
      "4 Fower\n",
      "5 Fife\n",
      "6 Six\n",
      "7 Seven\n",
      "8 Eight\n",
      "9 Niner\n",
      "{'A': 'Alfa', 'B': 'Bravo', 'C': 'Charlie', 'D': 'Delta', 'E': 'Echo', 'F': 'Foxtrot', 'G': 'Golf', 'H': 'Hotel', 'I': 'India', 'J': 'Juliet', 'K': 'Kilo', 'L': 'Lima', 'M': 'Mike', 'N': 'November', 'O': 'Oscar', 'P': 'Papa', 'Q': 'Quebec', 'R': 'Romeo', 'S': 'Sierra', 'T': 'Tango', 'U': 'Uniform', 'V': 'Victor', 'W': 'Whiskey', 'X': 'X-Ray', 'Y': 'Yankee', 'Z': 'Zulu', '0': 'Zero', '1': 'One', '2': 'Two', '3': 'Tree', '4': 'Fower', '5': 'Fife', '6': 'Six', '7': 'Seven', '8': 'Eight', '9': 'Niner'}\n"
     ]
    }
   ],
   "source": [
    "#Project : American phonetic Alphabet\n",
    "\n",
    "my_str = \"\"\"A,Alfa\n",
    "B,Bravo\n",
    "C,Charlie\n",
    "D,Delta\n",
    "E,Echo\n",
    "F,Foxtrot\n",
    "G,Golf\n",
    "H,Hotel\n",
    "I,India\n",
    "J,Juliet\n",
    "K,Kilo\n",
    "L,Lima\n",
    "M,Mike\n",
    "N,November\n",
    "O,Oscar\n",
    "P,Papa\n",
    "Q,Quebec\n",
    "R,Romeo\n",
    "S,Sierra\n",
    "T,Tango\n",
    "U,Uniform\n",
    "V,Victor\n",
    "W,Whiskey\n",
    "X,X-Ray\n",
    "Y,Yankee\n",
    "Z,Zulu\n",
    "0,Zero\n",
    "1,One\n",
    "2,Two\n",
    "3,Tree\n",
    "4,Fower\n",
    "5,Fife\n",
    "6,Six\n",
    "7,Seven\n",
    "8,Eight\n",
    "9,Niner\"\"\"\n",
    "phonetic_list = my_str.split(\"\\n\")\n",
    "\n",
    "phonetic_dict = {}\n",
    "for item in phonetic_list:\n",
    "    key,value = item.split(\",\")\n",
    "    print(key,value)\n",
    "    phonetic_dict[key] = value\n",
    "print(phonetic_dict)"
   ]
  },
  {
   "cell_type": "code",
   "execution_count": 85,
   "metadata": {},
   "outputs": [],
   "source": [
    "name = input(\"Enter name\")"
   ]
  },
  {
   "cell_type": "code",
   "execution_count": 86,
   "metadata": {},
   "outputs": [
    {
     "data": {
      "text/plain": [
       "'test'"
      ]
     },
     "execution_count": 86,
     "metadata": {},
     "output_type": "execute_result"
    }
   ],
   "source": [
    "name"
   ]
  },
  {
   "cell_type": "code",
   "execution_count": 88,
   "metadata": {},
   "outputs": [
    {
     "name": "stdout",
     "output_type": "stream",
     "text": [
      "Character : t, Phonetic Name : Tango\n",
      "Character : e, Phonetic Name : Echo\n",
      "Character : s, Phonetic Name : Sierra\n",
      "Character : t, Phonetic Name : Tango\n"
     ]
    }
   ],
   "source": [
    "for char in name:\n",
    "    print(f'Character : {char}, Phonetic Name : {phonetic_dict[char.upper()]}')"
   ]
  },
  {
   "cell_type": "code",
   "execution_count": 92,
   "metadata": {},
   "outputs": [
    {
     "name": "stdout",
     "output_type": "stream",
     "text": [
      "{'A': 'Alfa', 'B': 'Bravo', 'C': 'Charlie', 'D': 'Delta', 'E': 'Echo', 'F': 'Foxtrot', 'G': 'Golf', 'H': 'Hotel', 'I': 'India', 'J': 'Juliet', 'K': 'Kilo', 'L': 'Lima', 'M': 'Mike', 'N': 'November', 'O': 'Oscar', 'P': 'Papa', 'Q': 'Quebec', 'R': 'Romeo', 'S': 'Sierra', 'T': 'Tango', 'U': 'Uniform', 'V': 'Victor', 'W': 'Whiskey', 'X': 'X-Ray', 'Y': 'Yankee', 'Z': 'Zulu', '0': 'Zero', '1': 'One', '2': 'Two', '3': 'Tree', '4': 'Fower', '5': 'Fife', '6': 'Six', '7': 'Seven', '8': 'Eight', '9': 'Niner'}\n"
     ]
    }
   ],
   "source": [
    "alphabet = dict()\n",
    "with open('phonetic_alphabet.csv' ) as f:\n",
    "    content = f.read().splitlines()\n",
    "    #print(content)\n",
    "\n",
    "for item in content[1:]:\n",
    "    letter, word = item.split(\",\")\n",
    "    alphabet[letter] =word\n",
    "\n",
    "print(alphabet)"
   ]
  },
  {
   "cell_type": "code",
   "execution_count": 99,
   "metadata": {},
   "outputs": [
    {
     "name": "stdout",
     "output_type": "stream",
     "text": [
      "PYTHON ===> "
     ]
    }
   ],
   "source": [
    "my_str = \"abcdef\".upper()\n",
    "my_str = \"python\".upper()\n",
    "my_str\n",
    "print(my_str, end = ' ===> ')"
   ]
  },
  {
   "cell_type": "code",
   "execution_count": 100,
   "metadata": {},
   "outputs": [
    {
     "name": "stdout",
     "output_type": "stream",
     "text": [
      "P Papa   Y Yankee   T Tango   H Hotel   O Oscar   N November   "
     ]
    }
   ],
   "source": [
    "for letter in my_str:\n",
    "    print(letter , alphabet[letter], end = '   ')"
   ]
  },
  {
   "cell_type": "code",
   "execution_count": 102,
   "metadata": {},
   "outputs": [
    {
     "data": {
      "text/plain": [
       "{'Anne', 'Dan', 'John', 'Tom'}"
      ]
     },
     "execution_count": 102,
     "metadata": {},
     "output_type": "execute_result"
    }
   ],
   "source": [
    "# Dictionary and set Comprehension\n",
    "names = {'tom', 'ANNE', 'JOhn','dAn'}\n",
    "\n",
    "names = {name.capitalize()  for name in names }\n",
    "names"
   ]
  },
  {
   "cell_type": "code",
   "execution_count": 105,
   "metadata": {},
   "outputs": [
    {
     "name": "stdout",
     "output_type": "stream",
     "text": [
      "{'A': 2, 'B': 4, 'C': 6}\n",
      "{'C': 6}\n"
     ]
    }
   ],
   "source": [
    "# Dicionary Cmrep\n",
    "d1 = {'a': 1, 'b': 2, 'c': 3}\n",
    "d3 = {k.upper(): v*2 for k,v in d1.items() }\n",
    "print(d3)\n",
    "\n",
    "d4 = {k.upper(): v*2 for k,v in d1.items()  if v%3 == 0}\n",
    "print(d4)"
   ]
  },
  {
   "cell_type": "code",
   "execution_count": 106,
   "metadata": {},
   "outputs": [
    {
     "name": "stdout",
     "output_type": "stream",
     "text": [
      "['A', 'B', 'C', 'A', 'B', 'C']\n"
     ]
    }
   ],
   "source": [
    "letters = 'aBcabC'\n",
    "upper = [c.upper() for c in letters]\n",
    "print(upper)"
   ]
  },
  {
   "cell_type": "code",
   "execution_count": 107,
   "metadata": {},
   "outputs": [
    {
     "name": "stdout",
     "output_type": "stream",
     "text": [
      "{'A', 'B', 'C'}\n"
     ]
    }
   ],
   "source": [
    "letters = 'aBcabC'\n",
    "upper = {c.upper() for c in letters}\n",
    "print(upper)"
   ]
  },
  {
   "cell_type": "code",
   "execution_count": 111,
   "metadata": {},
   "outputs": [
    {
     "data": {
      "text/plain": [
       "{2022: 20000.0, 2023: 30000.0, 2024: 40000.0}"
      ]
     },
     "execution_count": 111,
     "metadata": {},
     "output_type": "execute_result"
    }
   ],
   "source": [
    "sales = {2022: 200_000, 2023: 300_000, 2024: 400_000}\n",
    "profit = {k:v*0.1 for k,v in sales.items()}\n",
    "profit"
   ]
  },
  {
   "cell_type": "code",
   "execution_count": 108,
   "metadata": {},
   "outputs": [
    {
     "name": "stdout",
     "output_type": "stream",
     "text": [
      "{202.3: 200000, 202.4: 300000, 202.5: 400000}\n"
     ]
    }
   ],
   "source": [
    "sales = {2023: 200_000, 2024: 300_000, 2025: 400_000}\n",
    "profit = {k*0.1:v for k,v in sales.items()}\n",
    "print(profit)"
   ]
  },
  {
   "cell_type": "code",
   "execution_count": 109,
   "metadata": {},
   "outputs": [
    {
     "name": "stdout",
     "output_type": "stream",
     "text": [
      "{0: 'a', 1: 'b', 2: 'c'}\n"
     ]
    }
   ],
   "source": [
    "nums = list(range(10))\n",
    "letters = 'abc'\n",
    "d1 = dict(zip(nums, letters))\n",
    "print(d1)"
   ]
  },
  {
   "cell_type": "code",
   "execution_count": 113,
   "metadata": {},
   "outputs": [
    {
     "data": {
      "text/plain": [
       "30.0"
      ]
     },
     "execution_count": 113,
     "metadata": {},
     "output_type": "execute_result"
    }
   ],
   "source": [
    "30/100 * 100"
   ]
  },
  {
   "cell_type": "code",
   "execution_count": 114,
   "metadata": {},
   "outputs": [
    {
     "ename": "SyntaxError",
     "evalue": "invalid syntax (3271807103.py, line 1)",
     "output_type": "error",
     "traceback": [
      "\u001b[0;36m  Cell \u001b[0;32mIn[114], line 1\u001b[0;36m\u001b[0m\n\u001b[0;31m    Dictionary Comprehension\u001b[0m\n\u001b[0m               ^\u001b[0m\n\u001b[0;31mSyntaxError\u001b[0m\u001b[0;31m:\u001b[0m invalid syntax\n"
     ]
    }
   ],
   "source": [
    "Dictionary Comprehension\n",
    "Consider the following dictionary. The keys are the weekdays and the values are a website's visits.\n",
    "\n",
    "visits = {'Monday': 5000,\n",
    "          'Tuesday': 3000,\n",
    "          'Wednesday': 4000,\n",
    "          'Thursday': 4500,\n",
    "          'Friday': 5000,\n",
    "          'Saturday': 2000,\n",
    "          'Sunday': 1500\n",
    "           }\n",
    "\n",
    "\n",
    "Your task is to calculate the total no. of visits per week and save the value in a variable called total_visits\n",
    "\n",
    "Using dictionary comprehension create another dictionary called percentage. The keys are the days of the week and the values are the daily percentage of visits out of the total no. of visits calculated before.\n",
    "\n",
    "Example: if we suppose the total number of visits is 100 and on Monday there were 30 visits that the percentage of Monday visits is 30.0"
   ]
  },
  {
   "cell_type": "code",
   "execution_count": 115,
   "metadata": {},
   "outputs": [],
   "source": [
    "visits = {'Monday': 5000,\n",
    "          'Tuesday': 3000,\n",
    "          'Wednesday': 4000,\n",
    "          'Thursday': 4500,\n",
    "          'Friday': 5000,\n",
    "          'Saturday': 2000,\n",
    "          'Sunday': 1500\n",
    "           }\n",
    "           \n",
    "## YOUR CODE STARTS HERE\n",
    "total_visits = sum(visits.values())\n",
    "\n",
    "percentage = {k:v /total_visits* 100 for k,v in visits.items()}"
   ]
  },
  {
   "cell_type": "code",
   "execution_count": null,
   "metadata": {},
   "outputs": [],
   "source": [
    "visits = {'Monday': 5000,\n",
    "          'Tuesday': 3000,\n",
    "          'Wednesday': 4000,\n",
    "          'Thursday': 4500,\n",
    "          'Friday': 5000,\n",
    "          'Saturday': 2000,\n",
    "          'Sunday': 1500\n",
    "           }\n",
    " \n",
    "total_visits = sum(visits.values())\n",
    "print(total_visits)     # => 25000\n",
    " \n",
    " \n",
    "percentage = {k: (v / total_visits) * 100 for k, v in visits.items()}\n",
    "print(percentage) \n",
    "# {'Monday': 20.0, 'Tuesday': 12.0, 'Wednesday': 16.0, \n",
    "# 'Thursday': 18.0, 'Friday': 20.0, 'Saturday': 8.0, 'Sunday': 6.0}"
   ]
  }
 ],
 "metadata": {
  "kernelspec": {
   "display_name": "de-venv3.9",
   "language": "python",
   "name": "python3"
  },
  "language_info": {
   "codemirror_mode": {
    "name": "ipython",
    "version": 3
   },
   "file_extension": ".py",
   "mimetype": "text/x-python",
   "name": "python",
   "nbconvert_exporter": "python",
   "pygments_lexer": "ipython3",
   "version": "3.9.12"
  },
  "orig_nbformat": 4
 },
 "nbformat": 4,
 "nbformat_minor": 2
}
